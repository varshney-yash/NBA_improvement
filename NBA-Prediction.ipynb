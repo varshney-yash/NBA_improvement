{
  "nbformat": 4,
  "nbformat_minor": 0,
  "metadata": {
    "colab": {
      "name": "FDS_Final_Project.ipynb",
      "provenance": [],
      "collapsed_sections": []
    },
    "kernelspec": {
      "name": "python3",
      "display_name": "Python 3"
    },
    "language_info": {
      "name": "python"
    }
  },
  "cells": [
    {
      "cell_type": "markdown",
      "source": [
        "# **PLAYERS IMPROVEMENT PREDICTION**"
      ],
      "metadata": {
        "id": "36h_o8-WfnKL"
      }
    },
    {
      "cell_type": "code",
      "execution_count": null,
      "metadata": {
        "id": "-eIdGYl_iyCp"
      },
      "outputs": [],
      "source": [
        "#importing required libraries\n",
        "import pandas as pd\n",
        "import matplotlib.pyplot as plt\n",
        "import numpy as np\n",
        "from scipy import stats\n",
        "import seaborn as sns"
      ]
    },
    {
      "cell_type": "code",
      "source": [
        "#importing players data acquired from kaggle to a dataframe\n",
        "data=\"/content/players_data.csv\"\n",
        "df=pd.read_csv(data)\n",
        "df"
      ],
      "metadata": {
        "colab": {
          "base_uri": "https://localhost:8080/",
          "height": 572
        },
        "id": "EnoXZyREjCMy",
        "outputId": "569f3a1a-9145-4a40-bd8d-92cb99f15a71"
      },
      "execution_count": null,
      "outputs": [
        {
          "output_type": "execute_result",
          "data": {
            "text/plain": [
              "         Year          Player Pos   Age   Tm     G    TS%   3PAr    FTr  TRB%  \\\n",
              "0      1980.0   Abdul Jeelani  SF  25.0  POR  77.0  0.563  0.011  0.361  11.5   \n",
              "1      1980.0  Adrian Dantley  SF  23.0  UTA  68.0  0.635  0.002  0.415  11.3   \n",
              "2      1980.0    Alex English  SF  26.0  IND  78.0  0.536  0.005  0.239  13.1   \n",
              "3      1980.0   Allan Bristow  SF  28.0  UTA  82.0  0.534  0.009  0.310  13.0   \n",
              "4      1980.0   Allen Leavell  PG  22.0  HOU  77.0  0.560  0.029  0.337   4.8   \n",
              "...       ...             ...  ..   ...  ...   ...    ...    ...    ...   ...   \n",
              "13373  2018.0    Yogi Ferrell  SG  24.0  DAL  82.0  0.540  0.492  0.141   6.1   \n",
              "13374  2018.0    Zach Collins   C  20.0  POR  66.0  0.475  0.391  0.145  11.5   \n",
              "13375  2018.0     Zach LaVine  SG  22.0  CHI  24.0  0.499  0.346  0.301   7.7   \n",
              "13376  2018.0   Zach Randolph  PF  36.0  SAC  59.0  0.529  0.193  0.140  15.0   \n",
              "13377  2018.0   Zaza Pachulia   C  33.0  GSW  69.0  0.612  0.004  0.352  18.5   \n",
              "\n",
              "       ...  WS/48    3P%    FT%  Pick       GS%     FGA/48    3PA/48  \\\n",
              "0      ...  0.141  0.050  0.789  61.0  0.345292  21.088647  0.223950   \n",
              "1      ...  0.189  0.050  0.842   6.0  0.812997  22.743455  0.035901   \n",
              "2      ...  0.105  0.050  0.789  23.0  0.636405  22.250729  0.119950   \n",
              "3      ...  0.091  0.050  0.811  21.0  0.580905  16.354167  0.145833   \n",
              "4      ...  0.091  0.158  0.814  61.0  0.570027  14.831842  0.429581   \n",
              "...    ...    ...    ...    ...   ...       ...        ...       ...   \n",
              "13373  ...  0.064  0.373  0.796  61.0  0.256098  15.354952  7.551271   \n",
              "13374  ...  0.030  0.310  0.643  10.0  0.015152  13.274641  5.190431   \n",
              "13375  ...  0.025  0.341  0.813  13.0  1.000000  25.975610  9.000000   \n",
              "13376  ...  0.048  0.347  0.785  19.0  0.966102  24.286472  4.679045   \n",
              "13377  ...  0.161  0.050  0.806  42.0  0.826087  13.037037  0.049383   \n",
              "\n",
              "         FTA/48     PF/48        MPG  \n",
              "0      7.614308  5.785381  16.701299  \n",
              "1      9.442034  3.787584  39.323529  \n",
              "2      5.317784  4.118284  30.782051  \n",
              "3      5.062500  4.395833  28.097561  \n",
              "4      4.996703  4.454074  27.571429  \n",
              "...         ...       ...        ...  \n",
              "13373  2.166521  3.218230  27.829268  \n",
              "13374  1.929187  6.109091  15.833333  \n",
              "13375  7.829268  4.024390  27.333333  \n",
              "13376  3.405836  3.787798  25.559322  \n",
              "13377  4.592593  6.024691  14.086957  \n",
              "\n",
              "[13378 rows x 26 columns]"
            ],
            "text/html": [
              "\n",
              "  <div id=\"df-3c87259d-fbaf-4b69-852b-ca2dc1a5d3ae\">\n",
              "    <div class=\"colab-df-container\">\n",
              "      <div>\n",
              "<style scoped>\n",
              "    .dataframe tbody tr th:only-of-type {\n",
              "        vertical-align: middle;\n",
              "    }\n",
              "\n",
              "    .dataframe tbody tr th {\n",
              "        vertical-align: top;\n",
              "    }\n",
              "\n",
              "    .dataframe thead th {\n",
              "        text-align: right;\n",
              "    }\n",
              "</style>\n",
              "<table border=\"1\" class=\"dataframe\">\n",
              "  <thead>\n",
              "    <tr style=\"text-align: right;\">\n",
              "      <th></th>\n",
              "      <th>Year</th>\n",
              "      <th>Player</th>\n",
              "      <th>Pos</th>\n",
              "      <th>Age</th>\n",
              "      <th>Tm</th>\n",
              "      <th>G</th>\n",
              "      <th>TS%</th>\n",
              "      <th>3PAr</th>\n",
              "      <th>FTr</th>\n",
              "      <th>TRB%</th>\n",
              "      <th>...</th>\n",
              "      <th>WS/48</th>\n",
              "      <th>3P%</th>\n",
              "      <th>FT%</th>\n",
              "      <th>Pick</th>\n",
              "      <th>GS%</th>\n",
              "      <th>FGA/48</th>\n",
              "      <th>3PA/48</th>\n",
              "      <th>FTA/48</th>\n",
              "      <th>PF/48</th>\n",
              "      <th>MPG</th>\n",
              "    </tr>\n",
              "  </thead>\n",
              "  <tbody>\n",
              "    <tr>\n",
              "      <th>0</th>\n",
              "      <td>1980.0</td>\n",
              "      <td>Abdul Jeelani</td>\n",
              "      <td>SF</td>\n",
              "      <td>25.0</td>\n",
              "      <td>POR</td>\n",
              "      <td>77.0</td>\n",
              "      <td>0.563</td>\n",
              "      <td>0.011</td>\n",
              "      <td>0.361</td>\n",
              "      <td>11.5</td>\n",
              "      <td>...</td>\n",
              "      <td>0.141</td>\n",
              "      <td>0.050</td>\n",
              "      <td>0.789</td>\n",
              "      <td>61.0</td>\n",
              "      <td>0.345292</td>\n",
              "      <td>21.088647</td>\n",
              "      <td>0.223950</td>\n",
              "      <td>7.614308</td>\n",
              "      <td>5.785381</td>\n",
              "      <td>16.701299</td>\n",
              "    </tr>\n",
              "    <tr>\n",
              "      <th>1</th>\n",
              "      <td>1980.0</td>\n",
              "      <td>Adrian Dantley</td>\n",
              "      <td>SF</td>\n",
              "      <td>23.0</td>\n",
              "      <td>UTA</td>\n",
              "      <td>68.0</td>\n",
              "      <td>0.635</td>\n",
              "      <td>0.002</td>\n",
              "      <td>0.415</td>\n",
              "      <td>11.3</td>\n",
              "      <td>...</td>\n",
              "      <td>0.189</td>\n",
              "      <td>0.050</td>\n",
              "      <td>0.842</td>\n",
              "      <td>6.0</td>\n",
              "      <td>0.812997</td>\n",
              "      <td>22.743455</td>\n",
              "      <td>0.035901</td>\n",
              "      <td>9.442034</td>\n",
              "      <td>3.787584</td>\n",
              "      <td>39.323529</td>\n",
              "    </tr>\n",
              "    <tr>\n",
              "      <th>2</th>\n",
              "      <td>1980.0</td>\n",
              "      <td>Alex English</td>\n",
              "      <td>SF</td>\n",
              "      <td>26.0</td>\n",
              "      <td>IND</td>\n",
              "      <td>78.0</td>\n",
              "      <td>0.536</td>\n",
              "      <td>0.005</td>\n",
              "      <td>0.239</td>\n",
              "      <td>13.1</td>\n",
              "      <td>...</td>\n",
              "      <td>0.105</td>\n",
              "      <td>0.050</td>\n",
              "      <td>0.789</td>\n",
              "      <td>23.0</td>\n",
              "      <td>0.636405</td>\n",
              "      <td>22.250729</td>\n",
              "      <td>0.119950</td>\n",
              "      <td>5.317784</td>\n",
              "      <td>4.118284</td>\n",
              "      <td>30.782051</td>\n",
              "    </tr>\n",
              "    <tr>\n",
              "      <th>3</th>\n",
              "      <td>1980.0</td>\n",
              "      <td>Allan Bristow</td>\n",
              "      <td>SF</td>\n",
              "      <td>28.0</td>\n",
              "      <td>UTA</td>\n",
              "      <td>82.0</td>\n",
              "      <td>0.534</td>\n",
              "      <td>0.009</td>\n",
              "      <td>0.310</td>\n",
              "      <td>13.0</td>\n",
              "      <td>...</td>\n",
              "      <td>0.091</td>\n",
              "      <td>0.050</td>\n",
              "      <td>0.811</td>\n",
              "      <td>21.0</td>\n",
              "      <td>0.580905</td>\n",
              "      <td>16.354167</td>\n",
              "      <td>0.145833</td>\n",
              "      <td>5.062500</td>\n",
              "      <td>4.395833</td>\n",
              "      <td>28.097561</td>\n",
              "    </tr>\n",
              "    <tr>\n",
              "      <th>4</th>\n",
              "      <td>1980.0</td>\n",
              "      <td>Allen Leavell</td>\n",
              "      <td>PG</td>\n",
              "      <td>22.0</td>\n",
              "      <td>HOU</td>\n",
              "      <td>77.0</td>\n",
              "      <td>0.560</td>\n",
              "      <td>0.029</td>\n",
              "      <td>0.337</td>\n",
              "      <td>4.8</td>\n",
              "      <td>...</td>\n",
              "      <td>0.091</td>\n",
              "      <td>0.158</td>\n",
              "      <td>0.814</td>\n",
              "      <td>61.0</td>\n",
              "      <td>0.570027</td>\n",
              "      <td>14.831842</td>\n",
              "      <td>0.429581</td>\n",
              "      <td>4.996703</td>\n",
              "      <td>4.454074</td>\n",
              "      <td>27.571429</td>\n",
              "    </tr>\n",
              "    <tr>\n",
              "      <th>...</th>\n",
              "      <td>...</td>\n",
              "      <td>...</td>\n",
              "      <td>...</td>\n",
              "      <td>...</td>\n",
              "      <td>...</td>\n",
              "      <td>...</td>\n",
              "      <td>...</td>\n",
              "      <td>...</td>\n",
              "      <td>...</td>\n",
              "      <td>...</td>\n",
              "      <td>...</td>\n",
              "      <td>...</td>\n",
              "      <td>...</td>\n",
              "      <td>...</td>\n",
              "      <td>...</td>\n",
              "      <td>...</td>\n",
              "      <td>...</td>\n",
              "      <td>...</td>\n",
              "      <td>...</td>\n",
              "      <td>...</td>\n",
              "      <td>...</td>\n",
              "    </tr>\n",
              "    <tr>\n",
              "      <th>13373</th>\n",
              "      <td>2018.0</td>\n",
              "      <td>Yogi Ferrell</td>\n",
              "      <td>SG</td>\n",
              "      <td>24.0</td>\n",
              "      <td>DAL</td>\n",
              "      <td>82.0</td>\n",
              "      <td>0.540</td>\n",
              "      <td>0.492</td>\n",
              "      <td>0.141</td>\n",
              "      <td>6.1</td>\n",
              "      <td>...</td>\n",
              "      <td>0.064</td>\n",
              "      <td>0.373</td>\n",
              "      <td>0.796</td>\n",
              "      <td>61.0</td>\n",
              "      <td>0.256098</td>\n",
              "      <td>15.354952</td>\n",
              "      <td>7.551271</td>\n",
              "      <td>2.166521</td>\n",
              "      <td>3.218230</td>\n",
              "      <td>27.829268</td>\n",
              "    </tr>\n",
              "    <tr>\n",
              "      <th>13374</th>\n",
              "      <td>2018.0</td>\n",
              "      <td>Zach Collins</td>\n",
              "      <td>C</td>\n",
              "      <td>20.0</td>\n",
              "      <td>POR</td>\n",
              "      <td>66.0</td>\n",
              "      <td>0.475</td>\n",
              "      <td>0.391</td>\n",
              "      <td>0.145</td>\n",
              "      <td>11.5</td>\n",
              "      <td>...</td>\n",
              "      <td>0.030</td>\n",
              "      <td>0.310</td>\n",
              "      <td>0.643</td>\n",
              "      <td>10.0</td>\n",
              "      <td>0.015152</td>\n",
              "      <td>13.274641</td>\n",
              "      <td>5.190431</td>\n",
              "      <td>1.929187</td>\n",
              "      <td>6.109091</td>\n",
              "      <td>15.833333</td>\n",
              "    </tr>\n",
              "    <tr>\n",
              "      <th>13375</th>\n",
              "      <td>2018.0</td>\n",
              "      <td>Zach LaVine</td>\n",
              "      <td>SG</td>\n",
              "      <td>22.0</td>\n",
              "      <td>CHI</td>\n",
              "      <td>24.0</td>\n",
              "      <td>0.499</td>\n",
              "      <td>0.346</td>\n",
              "      <td>0.301</td>\n",
              "      <td>7.7</td>\n",
              "      <td>...</td>\n",
              "      <td>0.025</td>\n",
              "      <td>0.341</td>\n",
              "      <td>0.813</td>\n",
              "      <td>13.0</td>\n",
              "      <td>1.000000</td>\n",
              "      <td>25.975610</td>\n",
              "      <td>9.000000</td>\n",
              "      <td>7.829268</td>\n",
              "      <td>4.024390</td>\n",
              "      <td>27.333333</td>\n",
              "    </tr>\n",
              "    <tr>\n",
              "      <th>13376</th>\n",
              "      <td>2018.0</td>\n",
              "      <td>Zach Randolph</td>\n",
              "      <td>PF</td>\n",
              "      <td>36.0</td>\n",
              "      <td>SAC</td>\n",
              "      <td>59.0</td>\n",
              "      <td>0.529</td>\n",
              "      <td>0.193</td>\n",
              "      <td>0.140</td>\n",
              "      <td>15.0</td>\n",
              "      <td>...</td>\n",
              "      <td>0.048</td>\n",
              "      <td>0.347</td>\n",
              "      <td>0.785</td>\n",
              "      <td>19.0</td>\n",
              "      <td>0.966102</td>\n",
              "      <td>24.286472</td>\n",
              "      <td>4.679045</td>\n",
              "      <td>3.405836</td>\n",
              "      <td>3.787798</td>\n",
              "      <td>25.559322</td>\n",
              "    </tr>\n",
              "    <tr>\n",
              "      <th>13377</th>\n",
              "      <td>2018.0</td>\n",
              "      <td>Zaza Pachulia</td>\n",
              "      <td>C</td>\n",
              "      <td>33.0</td>\n",
              "      <td>GSW</td>\n",
              "      <td>69.0</td>\n",
              "      <td>0.612</td>\n",
              "      <td>0.004</td>\n",
              "      <td>0.352</td>\n",
              "      <td>18.5</td>\n",
              "      <td>...</td>\n",
              "      <td>0.161</td>\n",
              "      <td>0.050</td>\n",
              "      <td>0.806</td>\n",
              "      <td>42.0</td>\n",
              "      <td>0.826087</td>\n",
              "      <td>13.037037</td>\n",
              "      <td>0.049383</td>\n",
              "      <td>4.592593</td>\n",
              "      <td>6.024691</td>\n",
              "      <td>14.086957</td>\n",
              "    </tr>\n",
              "  </tbody>\n",
              "</table>\n",
              "<p>13378 rows × 26 columns</p>\n",
              "</div>\n",
              "      <button class=\"colab-df-convert\" onclick=\"convertToInteractive('df-3c87259d-fbaf-4b69-852b-ca2dc1a5d3ae')\"\n",
              "              title=\"Convert this dataframe to an interactive table.\"\n",
              "              style=\"display:none;\">\n",
              "        \n",
              "  <svg xmlns=\"http://www.w3.org/2000/svg\" height=\"24px\"viewBox=\"0 0 24 24\"\n",
              "       width=\"24px\">\n",
              "    <path d=\"M0 0h24v24H0V0z\" fill=\"none\"/>\n",
              "    <path d=\"M18.56 5.44l.94 2.06.94-2.06 2.06-.94-2.06-.94-.94-2.06-.94 2.06-2.06.94zm-11 1L8.5 8.5l.94-2.06 2.06-.94-2.06-.94L8.5 2.5l-.94 2.06-2.06.94zm10 10l.94 2.06.94-2.06 2.06-.94-2.06-.94-.94-2.06-.94 2.06-2.06.94z\"/><path d=\"M17.41 7.96l-1.37-1.37c-.4-.4-.92-.59-1.43-.59-.52 0-1.04.2-1.43.59L10.3 9.45l-7.72 7.72c-.78.78-.78 2.05 0 2.83L4 21.41c.39.39.9.59 1.41.59.51 0 1.02-.2 1.41-.59l7.78-7.78 2.81-2.81c.8-.78.8-2.07 0-2.86zM5.41 20L4 18.59l7.72-7.72 1.47 1.35L5.41 20z\"/>\n",
              "  </svg>\n",
              "      </button>\n",
              "      \n",
              "  <style>\n",
              "    .colab-df-container {\n",
              "      display:flex;\n",
              "      flex-wrap:wrap;\n",
              "      gap: 12px;\n",
              "    }\n",
              "\n",
              "    .colab-df-convert {\n",
              "      background-color: #E8F0FE;\n",
              "      border: none;\n",
              "      border-radius: 50%;\n",
              "      cursor: pointer;\n",
              "      display: none;\n",
              "      fill: #1967D2;\n",
              "      height: 32px;\n",
              "      padding: 0 0 0 0;\n",
              "      width: 32px;\n",
              "    }\n",
              "\n",
              "    .colab-df-convert:hover {\n",
              "      background-color: #E2EBFA;\n",
              "      box-shadow: 0px 1px 2px rgba(60, 64, 67, 0.3), 0px 1px 3px 1px rgba(60, 64, 67, 0.15);\n",
              "      fill: #174EA6;\n",
              "    }\n",
              "\n",
              "    [theme=dark] .colab-df-convert {\n",
              "      background-color: #3B4455;\n",
              "      fill: #D2E3FC;\n",
              "    }\n",
              "\n",
              "    [theme=dark] .colab-df-convert:hover {\n",
              "      background-color: #434B5C;\n",
              "      box-shadow: 0px 1px 3px 1px rgba(0, 0, 0, 0.15);\n",
              "      filter: drop-shadow(0px 1px 2px rgba(0, 0, 0, 0.3));\n",
              "      fill: #FFFFFF;\n",
              "    }\n",
              "  </style>\n",
              "\n",
              "      <script>\n",
              "        const buttonEl =\n",
              "          document.querySelector('#df-3c87259d-fbaf-4b69-852b-ca2dc1a5d3ae button.colab-df-convert');\n",
              "        buttonEl.style.display =\n",
              "          google.colab.kernel.accessAllowed ? 'block' : 'none';\n",
              "\n",
              "        async function convertToInteractive(key) {\n",
              "          const element = document.querySelector('#df-3c87259d-fbaf-4b69-852b-ca2dc1a5d3ae');\n",
              "          const dataTable =\n",
              "            await google.colab.kernel.invokeFunction('convertToInteractive',\n",
              "                                                     [key], {});\n",
              "          if (!dataTable) return;\n",
              "\n",
              "          const docLinkHtml = 'Like what you see? Visit the ' +\n",
              "            '<a target=\"_blank\" href=https://colab.research.google.com/notebooks/data_table.ipynb>data table notebook</a>'\n",
              "            + ' to learn more about interactive tables.';\n",
              "          element.innerHTML = '';\n",
              "          dataTable['output_type'] = 'display_data';\n",
              "          await google.colab.output.renderOutput(dataTable, element);\n",
              "          const docLink = document.createElement('div');\n",
              "          docLink.innerHTML = docLinkHtml;\n",
              "          element.appendChild(docLink);\n",
              "        }\n",
              "      </script>\n",
              "    </div>\n",
              "  </div>\n",
              "  "
            ]
          },
          "metadata": {},
          "execution_count": 4
        }
      ]
    },
    {
      "cell_type": "markdown",
      "source": [
        "This data consists of following columns :-\n",
        "\n",
        "*Year - Year*  \n",
        "Player - Player Name \n",
        "Pos - Player's Position \n",
        "Age - Age  \n",
        "Tm - Team  \n",
        "G - Games \n",
        "\n",
        "TS% - True Shooting  \n",
        "3PAr - 3-Point Attempt Rate\n",
        "\n",
        "FTr - Free Throw Rate   \n",
        "TRB% - Total Rebound Percentage     \n",
        "AST% - Assist Percentage   \n",
        "STL% - Steal Percentage    \n",
        "BLK% - Block Percentage    \n",
        "TOV% - Turnover Percentage    \n",
        "USG% - Usage Percentage    \n",
        "*WS - Win Shares*      \n",
        "WS/48 - Win Shares Per 48 Minutes   \n",
        "3P% - 3-Point Field Goal Percentage     \n",
        "FT% - Free Throws    \n",
        "Pick - Picks    \n",
        "GS% - Games started Percentage     \n",
        "FGA/48 - Field Goal Attempts Per 48 Minutes  \n",
        "3PA/48 - 3-Point Attempt Per 48 Minutes  \n",
        "FTA/48 - Free Throw Attempts Per 48 Minutes  \n",
        "PF/48 - Personal Fouls Per 48 Minutes     \n",
        "*MPG - Minutes Played Per Game*    "
      ],
      "metadata": {
        "id": "VOO_jnzFllVH"
      }
    },
    {
      "cell_type": "code",
      "source": [
        "#checking and verifying datatypes of each column values\n",
        "df.dtypes"
      ],
      "metadata": {
        "colab": {
          "base_uri": "https://localhost:8080/"
        },
        "id": "mdfWFJCQjg0u",
        "outputId": "eb0c3046-8a33-4cdc-8a6f-5ab869e147ba"
      },
      "execution_count": null,
      "outputs": [
        {
          "output_type": "execute_result",
          "data": {
            "text/plain": [
              "Year      float64\n",
              "Player     object\n",
              "Pos        object\n",
              "Age       float64\n",
              "Tm         object\n",
              "G         float64\n",
              "TS%       float64\n",
              "3PAr      float64\n",
              "FTr       float64\n",
              "TRB%      float64\n",
              "AST%      float64\n",
              "STL%      float64\n",
              "BLK%      float64\n",
              "TOV%      float64\n",
              "USG%      float64\n",
              "WS        float64\n",
              "WS/48     float64\n",
              "3P%       float64\n",
              "FT%       float64\n",
              "Pick      float64\n",
              "GS%       float64\n",
              "FGA/48    float64\n",
              "3PA/48    float64\n",
              "FTA/48    float64\n",
              "PF/48     float64\n",
              "MPG       float64\n",
              "dtype: object"
            ]
          },
          "metadata": {},
          "execution_count": 5
        }
      ]
    },
    {
      "cell_type": "code",
      "source": [
        "#checking for null values in each column\n",
        "df.isna().sum()"
      ],
      "metadata": {
        "colab": {
          "base_uri": "https://localhost:8080/"
        },
        "id": "4zoHTSW-kFYk",
        "outputId": "cb9ffcc6-0bd6-434f-e915-cecd1cfafb87"
      },
      "execution_count": null,
      "outputs": [
        {
          "output_type": "execute_result",
          "data": {
            "text/plain": [
              "Year      0\n",
              "Player    0\n",
              "Pos       0\n",
              "Age       0\n",
              "Tm        0\n",
              "G         0\n",
              "TS%       0\n",
              "3PAr      0\n",
              "FTr       0\n",
              "TRB%      0\n",
              "AST%      0\n",
              "STL%      0\n",
              "BLK%      0\n",
              "TOV%      0\n",
              "USG%      0\n",
              "WS        0\n",
              "WS/48     0\n",
              "3P%       0\n",
              "FT%       0\n",
              "Pick      0\n",
              "GS%       0\n",
              "FGA/48    0\n",
              "3PA/48    0\n",
              "FTA/48    0\n",
              "PF/48     0\n",
              "MPG       0\n",
              "dtype: int64"
            ]
          },
          "metadata": {},
          "execution_count": 6
        }
      ]
    },
    {
      "cell_type": "markdown",
      "source": [
        "### **Calculating Improvement**\n",
        "We calculate improvement of each player in the following season by subtracting their win share in particular year from the win share in the next year, using formula\n",
        "\n",
        "Improvement(year) = WS(year+1) - WS(year)"
      ],
      "metadata": {
        "id": "6PE-4IPKnF49"
      }
    },
    {
      "cell_type": "code",
      "source": [
        "#calculating improvement\n",
        "def calculate_improvement(df, column):\n",
        "    diff = dict()\n",
        "    for index, row in df.iterrows():\n",
        "        year = row['Year']\n",
        "        if year+1 in df['Year'].values:\n",
        "            diff[year] = float(df.loc[df['Year']==year+1, column] - row[column])\n",
        "        else:\n",
        "            diff[year] = np.nan\n",
        "    return pd.Series(diff)\n",
        "\n",
        "improvement = df.groupby('Player').apply(calculate_improvement, column='WS')\n",
        "improvement = pd.DataFrame(improvement).reset_index()\n",
        "improvement.columns = ['Player', 'Year', 'Improvement']"
      ],
      "metadata": {
        "id": "22XHAH5fkW_z"
      },
      "execution_count": null,
      "outputs": []
    },
    {
      "cell_type": "code",
      "source": [
        "improvement"
      ],
      "metadata": {
        "colab": {
          "base_uri": "https://localhost:8080/",
          "height": 424
        },
        "id": "flsuPJ7qlDD8",
        "outputId": "5d8ae457-8d71-4383-8f71-b1c25fc8b75a"
      },
      "execution_count": null,
      "outputs": [
        {
          "output_type": "execute_result",
          "data": {
            "text/plain": [
              "                   Player    Year  Improvement\n",
              "0              A.C. Green  1986.0          4.3\n",
              "1              A.C. Green  1987.0          0.3\n",
              "2              A.C. Green  1988.0          1.5\n",
              "3              A.C. Green  1989.0         -1.7\n",
              "4              A.C. Green  1990.0         -1.6\n",
              "...                   ...     ...          ...\n",
              "13373  Zydrunas Ilgauskas  2007.0         -0.5\n",
              "13374  Zydrunas Ilgauskas  2008.0         -0.5\n",
              "13375  Zydrunas Ilgauskas  2009.0         -3.1\n",
              "13376  Zydrunas Ilgauskas  2010.0          0.4\n",
              "13377  Zydrunas Ilgauskas  2011.0          NaN\n",
              "\n",
              "[13378 rows x 3 columns]"
            ],
            "text/html": [
              "\n",
              "  <div id=\"df-70217c5d-447f-4d4b-b47c-1a26fcfe0503\">\n",
              "    <div class=\"colab-df-container\">\n",
              "      <div>\n",
              "<style scoped>\n",
              "    .dataframe tbody tr th:only-of-type {\n",
              "        vertical-align: middle;\n",
              "    }\n",
              "\n",
              "    .dataframe tbody tr th {\n",
              "        vertical-align: top;\n",
              "    }\n",
              "\n",
              "    .dataframe thead th {\n",
              "        text-align: right;\n",
              "    }\n",
              "</style>\n",
              "<table border=\"1\" class=\"dataframe\">\n",
              "  <thead>\n",
              "    <tr style=\"text-align: right;\">\n",
              "      <th></th>\n",
              "      <th>Player</th>\n",
              "      <th>Year</th>\n",
              "      <th>Improvement</th>\n",
              "    </tr>\n",
              "  </thead>\n",
              "  <tbody>\n",
              "    <tr>\n",
              "      <th>0</th>\n",
              "      <td>A.C. Green</td>\n",
              "      <td>1986.0</td>\n",
              "      <td>4.3</td>\n",
              "    </tr>\n",
              "    <tr>\n",
              "      <th>1</th>\n",
              "      <td>A.C. Green</td>\n",
              "      <td>1987.0</td>\n",
              "      <td>0.3</td>\n",
              "    </tr>\n",
              "    <tr>\n",
              "      <th>2</th>\n",
              "      <td>A.C. Green</td>\n",
              "      <td>1988.0</td>\n",
              "      <td>1.5</td>\n",
              "    </tr>\n",
              "    <tr>\n",
              "      <th>3</th>\n",
              "      <td>A.C. Green</td>\n",
              "      <td>1989.0</td>\n",
              "      <td>-1.7</td>\n",
              "    </tr>\n",
              "    <tr>\n",
              "      <th>4</th>\n",
              "      <td>A.C. Green</td>\n",
              "      <td>1990.0</td>\n",
              "      <td>-1.6</td>\n",
              "    </tr>\n",
              "    <tr>\n",
              "      <th>...</th>\n",
              "      <td>...</td>\n",
              "      <td>...</td>\n",
              "      <td>...</td>\n",
              "    </tr>\n",
              "    <tr>\n",
              "      <th>13373</th>\n",
              "      <td>Zydrunas Ilgauskas</td>\n",
              "      <td>2007.0</td>\n",
              "      <td>-0.5</td>\n",
              "    </tr>\n",
              "    <tr>\n",
              "      <th>13374</th>\n",
              "      <td>Zydrunas Ilgauskas</td>\n",
              "      <td>2008.0</td>\n",
              "      <td>-0.5</td>\n",
              "    </tr>\n",
              "    <tr>\n",
              "      <th>13375</th>\n",
              "      <td>Zydrunas Ilgauskas</td>\n",
              "      <td>2009.0</td>\n",
              "      <td>-3.1</td>\n",
              "    </tr>\n",
              "    <tr>\n",
              "      <th>13376</th>\n",
              "      <td>Zydrunas Ilgauskas</td>\n",
              "      <td>2010.0</td>\n",
              "      <td>0.4</td>\n",
              "    </tr>\n",
              "    <tr>\n",
              "      <th>13377</th>\n",
              "      <td>Zydrunas Ilgauskas</td>\n",
              "      <td>2011.0</td>\n",
              "      <td>NaN</td>\n",
              "    </tr>\n",
              "  </tbody>\n",
              "</table>\n",
              "<p>13378 rows × 3 columns</p>\n",
              "</div>\n",
              "      <button class=\"colab-df-convert\" onclick=\"convertToInteractive('df-70217c5d-447f-4d4b-b47c-1a26fcfe0503')\"\n",
              "              title=\"Convert this dataframe to an interactive table.\"\n",
              "              style=\"display:none;\">\n",
              "        \n",
              "  <svg xmlns=\"http://www.w3.org/2000/svg\" height=\"24px\"viewBox=\"0 0 24 24\"\n",
              "       width=\"24px\">\n",
              "    <path d=\"M0 0h24v24H0V0z\" fill=\"none\"/>\n",
              "    <path d=\"M18.56 5.44l.94 2.06.94-2.06 2.06-.94-2.06-.94-.94-2.06-.94 2.06-2.06.94zm-11 1L8.5 8.5l.94-2.06 2.06-.94-2.06-.94L8.5 2.5l-.94 2.06-2.06.94zm10 10l.94 2.06.94-2.06 2.06-.94-2.06-.94-.94-2.06-.94 2.06-2.06.94z\"/><path d=\"M17.41 7.96l-1.37-1.37c-.4-.4-.92-.59-1.43-.59-.52 0-1.04.2-1.43.59L10.3 9.45l-7.72 7.72c-.78.78-.78 2.05 0 2.83L4 21.41c.39.39.9.59 1.41.59.51 0 1.02-.2 1.41-.59l7.78-7.78 2.81-2.81c.8-.78.8-2.07 0-2.86zM5.41 20L4 18.59l7.72-7.72 1.47 1.35L5.41 20z\"/>\n",
              "  </svg>\n",
              "      </button>\n",
              "      \n",
              "  <style>\n",
              "    .colab-df-container {\n",
              "      display:flex;\n",
              "      flex-wrap:wrap;\n",
              "      gap: 12px;\n",
              "    }\n",
              "\n",
              "    .colab-df-convert {\n",
              "      background-color: #E8F0FE;\n",
              "      border: none;\n",
              "      border-radius: 50%;\n",
              "      cursor: pointer;\n",
              "      display: none;\n",
              "      fill: #1967D2;\n",
              "      height: 32px;\n",
              "      padding: 0 0 0 0;\n",
              "      width: 32px;\n",
              "    }\n",
              "\n",
              "    .colab-df-convert:hover {\n",
              "      background-color: #E2EBFA;\n",
              "      box-shadow: 0px 1px 2px rgba(60, 64, 67, 0.3), 0px 1px 3px 1px rgba(60, 64, 67, 0.15);\n",
              "      fill: #174EA6;\n",
              "    }\n",
              "\n",
              "    [theme=dark] .colab-df-convert {\n",
              "      background-color: #3B4455;\n",
              "      fill: #D2E3FC;\n",
              "    }\n",
              "\n",
              "    [theme=dark] .colab-df-convert:hover {\n",
              "      background-color: #434B5C;\n",
              "      box-shadow: 0px 1px 3px 1px rgba(0, 0, 0, 0.15);\n",
              "      filter: drop-shadow(0px 1px 2px rgba(0, 0, 0, 0.3));\n",
              "      fill: #FFFFFF;\n",
              "    }\n",
              "  </style>\n",
              "\n",
              "      <script>\n",
              "        const buttonEl =\n",
              "          document.querySelector('#df-70217c5d-447f-4d4b-b47c-1a26fcfe0503 button.colab-df-convert');\n",
              "        buttonEl.style.display =\n",
              "          google.colab.kernel.accessAllowed ? 'block' : 'none';\n",
              "\n",
              "        async function convertToInteractive(key) {\n",
              "          const element = document.querySelector('#df-70217c5d-447f-4d4b-b47c-1a26fcfe0503');\n",
              "          const dataTable =\n",
              "            await google.colab.kernel.invokeFunction('convertToInteractive',\n",
              "                                                     [key], {});\n",
              "          if (!dataTable) return;\n",
              "\n",
              "          const docLinkHtml = 'Like what you see? Visit the ' +\n",
              "            '<a target=\"_blank\" href=https://colab.research.google.com/notebooks/data_table.ipynb>data table notebook</a>'\n",
              "            + ' to learn more about interactive tables.';\n",
              "          element.innerHTML = '';\n",
              "          dataTable['output_type'] = 'display_data';\n",
              "          await google.colab.output.renderOutput(dataTable, element);\n",
              "          const docLink = document.createElement('div');\n",
              "          docLink.innerHTML = docLinkHtml;\n",
              "          element.appendChild(docLink);\n",
              "        }\n",
              "      </script>\n",
              "    </div>\n",
              "  </div>\n",
              "  "
            ]
          },
          "metadata": {},
          "execution_count": 8
        }
      ]
    },
    {
      "cell_type": "code",
      "source": [
        "#checking for null values in improvement dataframe\n",
        "improvement.isna().sum()"
      ],
      "metadata": {
        "colab": {
          "base_uri": "https://localhost:8080/"
        },
        "id": "Y7oPSHH7sIKw",
        "outputId": "2894d2d9-ae13-4c16-9f68-c1427d152a24"
      },
      "execution_count": null,
      "outputs": [
        {
          "output_type": "execute_result",
          "data": {
            "text/plain": [
              "Player            0\n",
              "Year              0\n",
              "Improvement    2920\n",
              "dtype: int64"
            ]
          },
          "metadata": {},
          "execution_count": 9
        }
      ]
    },
    {
      "cell_type": "code",
      "source": [
        "#dropping null values\n",
        "improvement.dropna(inplace=True)"
      ],
      "metadata": {
        "id": "M8606-TzrySB"
      },
      "execution_count": null,
      "outputs": []
    },
    {
      "cell_type": "code",
      "source": [
        "#merging the calucated improvement into our original dataframe\n",
        "df = pd.merge(df, improvement, on=['Player', 'Year'], how='inner')\n",
        "df"
      ],
      "metadata": {
        "colab": {
          "base_uri": "https://localhost:8080/",
          "height": 661
        },
        "id": "Pfi05awjqBVL",
        "outputId": "8ab8548c-cb04-47b8-e3ce-bb2706c18a16"
      },
      "execution_count": null,
      "outputs": [
        {
          "output_type": "execute_result",
          "data": {
            "text/plain": [
              "         Year           Player Pos   Age   Tm     G    TS%   3PAr    FTr  \\\n",
              "0      1980.0    Abdul Jeelani  SF  25.0  POR  77.0  0.563  0.011  0.361   \n",
              "1      1980.0   Adrian Dantley  SF  23.0  UTA  68.0  0.635  0.002  0.415   \n",
              "2      1980.0     Alex English  SF  26.0  IND  78.0  0.536  0.005  0.239   \n",
              "3      1980.0    Allan Bristow  SF  28.0  UTA  82.0  0.534  0.009  0.310   \n",
              "4      1980.0    Allen Leavell  PG  22.0  HOU  77.0  0.560  0.029  0.337   \n",
              "...       ...              ...  ..   ...  ...   ...    ...    ...    ...   \n",
              "10453  2017.0  Wilson Chandler  SF  29.0  DEN  71.0  0.545  0.347  0.207   \n",
              "10454  2017.0     Yogi Ferrell  PG  23.0  DAL  46.0  0.533  0.447  0.226   \n",
              "10455  2017.0      Zach LaVine  SG  21.0  MIN  47.0  0.576  0.437  0.197   \n",
              "10456  2017.0    Zach Randolph  PF  35.0  MEM  73.0  0.490  0.098  0.200   \n",
              "10457  2017.0    Zaza Pachulia   C  32.0  GSW  70.0  0.588  0.007  0.410   \n",
              "\n",
              "       TRB%  ...    3P%    FT%  Pick       GS%     FGA/48    3PA/48    FTA/48  \\\n",
              "0      11.5  ...  0.050  0.789  61.0  0.345292  21.088647  0.223950  7.614308   \n",
              "1      11.3  ...  0.050  0.842   6.0  0.812997  22.743455  0.035901  9.442034   \n",
              "2      13.1  ...  0.050  0.789  23.0  0.636405  22.250729  0.119950  5.317784   \n",
              "3      13.0  ...  0.050  0.811  21.0  0.580905  16.354167  0.145833  5.062500   \n",
              "4       4.8  ...  0.158  0.814  61.0  0.570027  14.831842  0.429581  4.996703   \n",
              "...     ...  ...    ...    ...   ...       ...        ...       ...       ...   \n",
              "10453  11.5  ...  0.337  0.727  23.0  0.464789  20.515248  7.122440  4.238507   \n",
              "10454   5.3  ...  0.386  0.831  61.0  0.630435  15.799499  7.057644  3.568922   \n",
              "10455   5.3  ...  0.387  0.836  13.0  1.000000  19.485420  8.507719  3.842196   \n",
              "10456  19.1  ...  0.223  0.731  19.0  0.068493  25.908175  2.526316  5.187010   \n",
              "10457  17.7  ...  0.050  0.778  42.0  1.000000  11.621451  0.075710  4.769716   \n",
              "\n",
              "          PF/48        MPG  Improvement  \n",
              "0      5.785381  16.701299         -2.2  \n",
              "1      3.787584  39.323529          3.1  \n",
              "2      4.118284  30.782051          3.0  \n",
              "3      4.395833  28.097561         -1.7  \n",
              "4      4.454074  27.571429         -2.1  \n",
              "...         ...        ...          ...  \n",
              "10453  3.757852  30.943662         -0.3  \n",
              "10454  3.609023  26.021739          1.2  \n",
              "10455  2.854202  37.212766         -2.7  \n",
              "10456  3.655095  24.465753         -1.7  \n",
              "10457  6.283912  18.114286         -1.4  \n",
              "\n",
              "[10458 rows x 27 columns]"
            ],
            "text/html": [
              "\n",
              "  <div id=\"df-021c271e-04c2-4835-9c0a-14eb50b8a026\">\n",
              "    <div class=\"colab-df-container\">\n",
              "      <div>\n",
              "<style scoped>\n",
              "    .dataframe tbody tr th:only-of-type {\n",
              "        vertical-align: middle;\n",
              "    }\n",
              "\n",
              "    .dataframe tbody tr th {\n",
              "        vertical-align: top;\n",
              "    }\n",
              "\n",
              "    .dataframe thead th {\n",
              "        text-align: right;\n",
              "    }\n",
              "</style>\n",
              "<table border=\"1\" class=\"dataframe\">\n",
              "  <thead>\n",
              "    <tr style=\"text-align: right;\">\n",
              "      <th></th>\n",
              "      <th>Year</th>\n",
              "      <th>Player</th>\n",
              "      <th>Pos</th>\n",
              "      <th>Age</th>\n",
              "      <th>Tm</th>\n",
              "      <th>G</th>\n",
              "      <th>TS%</th>\n",
              "      <th>3PAr</th>\n",
              "      <th>FTr</th>\n",
              "      <th>TRB%</th>\n",
              "      <th>...</th>\n",
              "      <th>3P%</th>\n",
              "      <th>FT%</th>\n",
              "      <th>Pick</th>\n",
              "      <th>GS%</th>\n",
              "      <th>FGA/48</th>\n",
              "      <th>3PA/48</th>\n",
              "      <th>FTA/48</th>\n",
              "      <th>PF/48</th>\n",
              "      <th>MPG</th>\n",
              "      <th>Improvement</th>\n",
              "    </tr>\n",
              "  </thead>\n",
              "  <tbody>\n",
              "    <tr>\n",
              "      <th>0</th>\n",
              "      <td>1980.0</td>\n",
              "      <td>Abdul Jeelani</td>\n",
              "      <td>SF</td>\n",
              "      <td>25.0</td>\n",
              "      <td>POR</td>\n",
              "      <td>77.0</td>\n",
              "      <td>0.563</td>\n",
              "      <td>0.011</td>\n",
              "      <td>0.361</td>\n",
              "      <td>11.5</td>\n",
              "      <td>...</td>\n",
              "      <td>0.050</td>\n",
              "      <td>0.789</td>\n",
              "      <td>61.0</td>\n",
              "      <td>0.345292</td>\n",
              "      <td>21.088647</td>\n",
              "      <td>0.223950</td>\n",
              "      <td>7.614308</td>\n",
              "      <td>5.785381</td>\n",
              "      <td>16.701299</td>\n",
              "      <td>-2.2</td>\n",
              "    </tr>\n",
              "    <tr>\n",
              "      <th>1</th>\n",
              "      <td>1980.0</td>\n",
              "      <td>Adrian Dantley</td>\n",
              "      <td>SF</td>\n",
              "      <td>23.0</td>\n",
              "      <td>UTA</td>\n",
              "      <td>68.0</td>\n",
              "      <td>0.635</td>\n",
              "      <td>0.002</td>\n",
              "      <td>0.415</td>\n",
              "      <td>11.3</td>\n",
              "      <td>...</td>\n",
              "      <td>0.050</td>\n",
              "      <td>0.842</td>\n",
              "      <td>6.0</td>\n",
              "      <td>0.812997</td>\n",
              "      <td>22.743455</td>\n",
              "      <td>0.035901</td>\n",
              "      <td>9.442034</td>\n",
              "      <td>3.787584</td>\n",
              "      <td>39.323529</td>\n",
              "      <td>3.1</td>\n",
              "    </tr>\n",
              "    <tr>\n",
              "      <th>2</th>\n",
              "      <td>1980.0</td>\n",
              "      <td>Alex English</td>\n",
              "      <td>SF</td>\n",
              "      <td>26.0</td>\n",
              "      <td>IND</td>\n",
              "      <td>78.0</td>\n",
              "      <td>0.536</td>\n",
              "      <td>0.005</td>\n",
              "      <td>0.239</td>\n",
              "      <td>13.1</td>\n",
              "      <td>...</td>\n",
              "      <td>0.050</td>\n",
              "      <td>0.789</td>\n",
              "      <td>23.0</td>\n",
              "      <td>0.636405</td>\n",
              "      <td>22.250729</td>\n",
              "      <td>0.119950</td>\n",
              "      <td>5.317784</td>\n",
              "      <td>4.118284</td>\n",
              "      <td>30.782051</td>\n",
              "      <td>3.0</td>\n",
              "    </tr>\n",
              "    <tr>\n",
              "      <th>3</th>\n",
              "      <td>1980.0</td>\n",
              "      <td>Allan Bristow</td>\n",
              "      <td>SF</td>\n",
              "      <td>28.0</td>\n",
              "      <td>UTA</td>\n",
              "      <td>82.0</td>\n",
              "      <td>0.534</td>\n",
              "      <td>0.009</td>\n",
              "      <td>0.310</td>\n",
              "      <td>13.0</td>\n",
              "      <td>...</td>\n",
              "      <td>0.050</td>\n",
              "      <td>0.811</td>\n",
              "      <td>21.0</td>\n",
              "      <td>0.580905</td>\n",
              "      <td>16.354167</td>\n",
              "      <td>0.145833</td>\n",
              "      <td>5.062500</td>\n",
              "      <td>4.395833</td>\n",
              "      <td>28.097561</td>\n",
              "      <td>-1.7</td>\n",
              "    </tr>\n",
              "    <tr>\n",
              "      <th>4</th>\n",
              "      <td>1980.0</td>\n",
              "      <td>Allen Leavell</td>\n",
              "      <td>PG</td>\n",
              "      <td>22.0</td>\n",
              "      <td>HOU</td>\n",
              "      <td>77.0</td>\n",
              "      <td>0.560</td>\n",
              "      <td>0.029</td>\n",
              "      <td>0.337</td>\n",
              "      <td>4.8</td>\n",
              "      <td>...</td>\n",
              "      <td>0.158</td>\n",
              "      <td>0.814</td>\n",
              "      <td>61.0</td>\n",
              "      <td>0.570027</td>\n",
              "      <td>14.831842</td>\n",
              "      <td>0.429581</td>\n",
              "      <td>4.996703</td>\n",
              "      <td>4.454074</td>\n",
              "      <td>27.571429</td>\n",
              "      <td>-2.1</td>\n",
              "    </tr>\n",
              "    <tr>\n",
              "      <th>...</th>\n",
              "      <td>...</td>\n",
              "      <td>...</td>\n",
              "      <td>...</td>\n",
              "      <td>...</td>\n",
              "      <td>...</td>\n",
              "      <td>...</td>\n",
              "      <td>...</td>\n",
              "      <td>...</td>\n",
              "      <td>...</td>\n",
              "      <td>...</td>\n",
              "      <td>...</td>\n",
              "      <td>...</td>\n",
              "      <td>...</td>\n",
              "      <td>...</td>\n",
              "      <td>...</td>\n",
              "      <td>...</td>\n",
              "      <td>...</td>\n",
              "      <td>...</td>\n",
              "      <td>...</td>\n",
              "      <td>...</td>\n",
              "      <td>...</td>\n",
              "    </tr>\n",
              "    <tr>\n",
              "      <th>10453</th>\n",
              "      <td>2017.0</td>\n",
              "      <td>Wilson Chandler</td>\n",
              "      <td>SF</td>\n",
              "      <td>29.0</td>\n",
              "      <td>DEN</td>\n",
              "      <td>71.0</td>\n",
              "      <td>0.545</td>\n",
              "      <td>0.347</td>\n",
              "      <td>0.207</td>\n",
              "      <td>11.5</td>\n",
              "      <td>...</td>\n",
              "      <td>0.337</td>\n",
              "      <td>0.727</td>\n",
              "      <td>23.0</td>\n",
              "      <td>0.464789</td>\n",
              "      <td>20.515248</td>\n",
              "      <td>7.122440</td>\n",
              "      <td>4.238507</td>\n",
              "      <td>3.757852</td>\n",
              "      <td>30.943662</td>\n",
              "      <td>-0.3</td>\n",
              "    </tr>\n",
              "    <tr>\n",
              "      <th>10454</th>\n",
              "      <td>2017.0</td>\n",
              "      <td>Yogi Ferrell</td>\n",
              "      <td>PG</td>\n",
              "      <td>23.0</td>\n",
              "      <td>DAL</td>\n",
              "      <td>46.0</td>\n",
              "      <td>0.533</td>\n",
              "      <td>0.447</td>\n",
              "      <td>0.226</td>\n",
              "      <td>5.3</td>\n",
              "      <td>...</td>\n",
              "      <td>0.386</td>\n",
              "      <td>0.831</td>\n",
              "      <td>61.0</td>\n",
              "      <td>0.630435</td>\n",
              "      <td>15.799499</td>\n",
              "      <td>7.057644</td>\n",
              "      <td>3.568922</td>\n",
              "      <td>3.609023</td>\n",
              "      <td>26.021739</td>\n",
              "      <td>1.2</td>\n",
              "    </tr>\n",
              "    <tr>\n",
              "      <th>10455</th>\n",
              "      <td>2017.0</td>\n",
              "      <td>Zach LaVine</td>\n",
              "      <td>SG</td>\n",
              "      <td>21.0</td>\n",
              "      <td>MIN</td>\n",
              "      <td>47.0</td>\n",
              "      <td>0.576</td>\n",
              "      <td>0.437</td>\n",
              "      <td>0.197</td>\n",
              "      <td>5.3</td>\n",
              "      <td>...</td>\n",
              "      <td>0.387</td>\n",
              "      <td>0.836</td>\n",
              "      <td>13.0</td>\n",
              "      <td>1.000000</td>\n",
              "      <td>19.485420</td>\n",
              "      <td>8.507719</td>\n",
              "      <td>3.842196</td>\n",
              "      <td>2.854202</td>\n",
              "      <td>37.212766</td>\n",
              "      <td>-2.7</td>\n",
              "    </tr>\n",
              "    <tr>\n",
              "      <th>10456</th>\n",
              "      <td>2017.0</td>\n",
              "      <td>Zach Randolph</td>\n",
              "      <td>PF</td>\n",
              "      <td>35.0</td>\n",
              "      <td>MEM</td>\n",
              "      <td>73.0</td>\n",
              "      <td>0.490</td>\n",
              "      <td>0.098</td>\n",
              "      <td>0.200</td>\n",
              "      <td>19.1</td>\n",
              "      <td>...</td>\n",
              "      <td>0.223</td>\n",
              "      <td>0.731</td>\n",
              "      <td>19.0</td>\n",
              "      <td>0.068493</td>\n",
              "      <td>25.908175</td>\n",
              "      <td>2.526316</td>\n",
              "      <td>5.187010</td>\n",
              "      <td>3.655095</td>\n",
              "      <td>24.465753</td>\n",
              "      <td>-1.7</td>\n",
              "    </tr>\n",
              "    <tr>\n",
              "      <th>10457</th>\n",
              "      <td>2017.0</td>\n",
              "      <td>Zaza Pachulia</td>\n",
              "      <td>C</td>\n",
              "      <td>32.0</td>\n",
              "      <td>GSW</td>\n",
              "      <td>70.0</td>\n",
              "      <td>0.588</td>\n",
              "      <td>0.007</td>\n",
              "      <td>0.410</td>\n",
              "      <td>17.7</td>\n",
              "      <td>...</td>\n",
              "      <td>0.050</td>\n",
              "      <td>0.778</td>\n",
              "      <td>42.0</td>\n",
              "      <td>1.000000</td>\n",
              "      <td>11.621451</td>\n",
              "      <td>0.075710</td>\n",
              "      <td>4.769716</td>\n",
              "      <td>6.283912</td>\n",
              "      <td>18.114286</td>\n",
              "      <td>-1.4</td>\n",
              "    </tr>\n",
              "  </tbody>\n",
              "</table>\n",
              "<p>10458 rows × 27 columns</p>\n",
              "</div>\n",
              "      <button class=\"colab-df-convert\" onclick=\"convertToInteractive('df-021c271e-04c2-4835-9c0a-14eb50b8a026')\"\n",
              "              title=\"Convert this dataframe to an interactive table.\"\n",
              "              style=\"display:none;\">\n",
              "        \n",
              "  <svg xmlns=\"http://www.w3.org/2000/svg\" height=\"24px\"viewBox=\"0 0 24 24\"\n",
              "       width=\"24px\">\n",
              "    <path d=\"M0 0h24v24H0V0z\" fill=\"none\"/>\n",
              "    <path d=\"M18.56 5.44l.94 2.06.94-2.06 2.06-.94-2.06-.94-.94-2.06-.94 2.06-2.06.94zm-11 1L8.5 8.5l.94-2.06 2.06-.94-2.06-.94L8.5 2.5l-.94 2.06-2.06.94zm10 10l.94 2.06.94-2.06 2.06-.94-2.06-.94-.94-2.06-.94 2.06-2.06.94z\"/><path d=\"M17.41 7.96l-1.37-1.37c-.4-.4-.92-.59-1.43-.59-.52 0-1.04.2-1.43.59L10.3 9.45l-7.72 7.72c-.78.78-.78 2.05 0 2.83L4 21.41c.39.39.9.59 1.41.59.51 0 1.02-.2 1.41-.59l7.78-7.78 2.81-2.81c.8-.78.8-2.07 0-2.86zM5.41 20L4 18.59l7.72-7.72 1.47 1.35L5.41 20z\"/>\n",
              "  </svg>\n",
              "      </button>\n",
              "      \n",
              "  <style>\n",
              "    .colab-df-container {\n",
              "      display:flex;\n",
              "      flex-wrap:wrap;\n",
              "      gap: 12px;\n",
              "    }\n",
              "\n",
              "    .colab-df-convert {\n",
              "      background-color: #E8F0FE;\n",
              "      border: none;\n",
              "      border-radius: 50%;\n",
              "      cursor: pointer;\n",
              "      display: none;\n",
              "      fill: #1967D2;\n",
              "      height: 32px;\n",
              "      padding: 0 0 0 0;\n",
              "      width: 32px;\n",
              "    }\n",
              "\n",
              "    .colab-df-convert:hover {\n",
              "      background-color: #E2EBFA;\n",
              "      box-shadow: 0px 1px 2px rgba(60, 64, 67, 0.3), 0px 1px 3px 1px rgba(60, 64, 67, 0.15);\n",
              "      fill: #174EA6;\n",
              "    }\n",
              "\n",
              "    [theme=dark] .colab-df-convert {\n",
              "      background-color: #3B4455;\n",
              "      fill: #D2E3FC;\n",
              "    }\n",
              "\n",
              "    [theme=dark] .colab-df-convert:hover {\n",
              "      background-color: #434B5C;\n",
              "      box-shadow: 0px 1px 3px 1px rgba(0, 0, 0, 0.15);\n",
              "      filter: drop-shadow(0px 1px 2px rgba(0, 0, 0, 0.3));\n",
              "      fill: #FFFFFF;\n",
              "    }\n",
              "  </style>\n",
              "\n",
              "      <script>\n",
              "        const buttonEl =\n",
              "          document.querySelector('#df-021c271e-04c2-4835-9c0a-14eb50b8a026 button.colab-df-convert');\n",
              "        buttonEl.style.display =\n",
              "          google.colab.kernel.accessAllowed ? 'block' : 'none';\n",
              "\n",
              "        async function convertToInteractive(key) {\n",
              "          const element = document.querySelector('#df-021c271e-04c2-4835-9c0a-14eb50b8a026');\n",
              "          const dataTable =\n",
              "            await google.colab.kernel.invokeFunction('convertToInteractive',\n",
              "                                                     [key], {});\n",
              "          if (!dataTable) return;\n",
              "\n",
              "          const docLinkHtml = 'Like what you see? Visit the ' +\n",
              "            '<a target=\"_blank\" href=https://colab.research.google.com/notebooks/data_table.ipynb>data table notebook</a>'\n",
              "            + ' to learn more about interactive tables.';\n",
              "          element.innerHTML = '';\n",
              "          dataTable['output_type'] = 'display_data';\n",
              "          await google.colab.output.renderOutput(dataTable, element);\n",
              "          const docLink = document.createElement('div');\n",
              "          docLink.innerHTML = docLinkHtml;\n",
              "          element.appendChild(docLink);\n",
              "        }\n",
              "      </script>\n",
              "    </div>\n",
              "  </div>\n",
              "  "
            ]
          },
          "metadata": {},
          "execution_count": 11
        }
      ]
    },
    {
      "cell_type": "markdown",
      "source": [
        "# **VISUALIZING IMPROVEMENT**\n",
        "\n",
        "> Indented block\n",
        "\n"
      ],
      "metadata": {
        "id": "gHPZtOf4oGR_"
      }
    },
    {
      "cell_type": "code",
      "source": [
        "#checking number of players played in each year\n",
        "df.groupby('Year').size()"
      ],
      "metadata": {
        "colab": {
          "base_uri": "https://localhost:8080/"
        },
        "id": "-o4lweUqpP3K",
        "outputId": "87552e23-6211-4213-ccd2-3c6b3fb8a5a0"
      },
      "execution_count": null,
      "outputs": [
        {
          "output_type": "execute_result",
          "data": {
            "text/plain": [
              "Year\n",
              "1980.0    192\n",
              "1981.0    206\n",
              "1982.0    204\n",
              "1983.0    214\n",
              "1984.0    217\n",
              "1985.0    215\n",
              "1986.0    207\n",
              "1987.0    223\n",
              "1988.0    223\n",
              "1989.0    237\n",
              "1990.0    242\n",
              "1991.0    260\n",
              "1992.0    257\n",
              "1993.0    251\n",
              "1994.0    259\n",
              "1995.0    266\n",
              "1996.0    279\n",
              "1997.0    282\n",
              "1998.0    280\n",
              "1999.0    292\n",
              "2000.0    296\n",
              "2001.0    290\n",
              "2002.0    289\n",
              "2003.0    288\n",
              "2004.0    305\n",
              "2005.0    317\n",
              "2006.0    319\n",
              "2007.0    320\n",
              "2008.0    308\n",
              "2009.0    312\n",
              "2010.0    323\n",
              "2011.0    320\n",
              "2012.0    319\n",
              "2013.0    325\n",
              "2014.0    337\n",
              "2015.0    339\n",
              "2016.0    326\n",
              "2017.0    319\n",
              "dtype: int64"
            ]
          },
          "metadata": {},
          "execution_count": 12
        }
      ]
    },
    {
      "cell_type": "markdown",
      "source": [
        "## **a) Based on Age**"
      ],
      "metadata": {
        "id": "J08EBnviow47"
      }
    },
    {
      "cell_type": "code",
      "source": [
        "df[\"Age\"].describe()"
      ],
      "metadata": {
        "colab": {
          "base_uri": "https://localhost:8080/"
        },
        "id": "FCe1CikSof6Z",
        "outputId": "42ed2162-d2b6-49a3-894a-8694705088fa"
      },
      "execution_count": null,
      "outputs": [
        {
          "output_type": "execute_result",
          "data": {
            "text/plain": [
              "count    10458.000000\n",
              "mean        26.561771\n",
              "std          3.869644\n",
              "min         18.000000\n",
              "25%         24.000000\n",
              "50%         26.000000\n",
              "75%         29.000000\n",
              "max         42.000000\n",
              "Name: Age, dtype: float64"
            ]
          },
          "metadata": {},
          "execution_count": 13
        }
      ]
    },
    {
      "cell_type": "code",
      "source": [
        "#classifying players based on age\n",
        "#Young-Players aged less than 25 years\n",
        "young = df.loc[df['Age']<25, 'Improvement']\n",
        "#Experienced-Players aged between 25 to 30\n",
        "experienced = df.loc[(df['Age']>=25) & (df['Age']<30), 'Improvement']\n",
        "#Veteran-Players aged between 30 to 35\n",
        "veteran = df.loc[(df['Age']>=30) & (df['Age']<35), 'Improvement']\n",
        "#Old-Players aged more than 35 years\n",
        "old = df.loc[df['Age']>=35, 'Improvement']\n",
        "age_data = [young, experienced, veteran, old]"
      ],
      "metadata": {
        "id": "ZZmx5S5FzES8"
      },
      "execution_count": null,
      "outputs": []
    },
    {
      "cell_type": "code",
      "source": [
        "#Plotting histogram between players based on their age and their improvement\n",
        "labels = ['Young(<25)', 'Experienced(25-29)', 'Veteran(30-34)', 'Old(>34)']\n",
        "colors = ['red', 'orange', 'green', 'blue']\n",
        "plt.figure(figsize=(8,6))\n",
        "for i in range(len(age_data)):\n",
        "  plt.hist(age_data[i], bins=50, alpha=0.75, label=labels[i], color=colors[i])\n",
        "plt.xlabel('Improvement', fontsize=16)\n",
        "plt.ylabel('No. of players/seasons', fontsize=16)\n",
        "plt.legend(fontsize=10)\n",
        "plt.show()"
      ],
      "metadata": {
        "colab": {
          "base_uri": "https://localhost:8080/",
          "height": 393
        },
        "id": "HuQPpc0Cp3iK",
        "outputId": "c36ac564-8902-4575-8a41-a767864bfa1a"
      },
      "execution_count": null,
      "outputs": [
        {
          "output_type": "display_data",
          "data": {
            "text/plain": [
              "<Figure size 576x432 with 1 Axes>"
            ],
            "image/png": "[encoded data removed]"
          },
          "metadata": {
            "needs_background": "light"
          }
        }
      ]
    },
    {
      "cell_type": "code",
      "source": [
        "#calculating ANOVA score\n",
        "for i in range(len(age_data)-1):\n",
        "  F_val, P_val = stats.f_oneway(age_data[i],age_data[i+1])\n",
        "  print(\"For {} vs {}, F-test score is {} and P-value is {}\".format(labels[i],labels[i+1],F_val,P_val))"
      ],
      "metadata": {
        "colab": {
          "base_uri": "https://localhost:8080/"
        },
        "id": "GrlcoKPo59oX",
        "outputId": "f5c1d35a-9014-4740-ce30-ffbee93ed989"
      },
      "execution_count": null,
      "outputs": [
        {
          "output_type": "stream",
          "name": "stdout",
          "text": [
            "For Young(<25) vs Experienced(25-29), F-test score is 246.41392359131527 and P-value is 1.0034286557460097e-54\n",
            "For Experienced(25-29) vs Veteran(30-34), F-test score is 69.05419036846365 and P-value is 1.1563454331351405e-16\n",
            "For Veteran(30-34) vs Old(>34), F-test score is 9.647999480416058 and P-value is 0.0019180754765218769\n"
          ]
        }
      ]
    },
    {
      "cell_type": "markdown",
      "source": [
        "It shows that younger players tend to show more improvement than older players. \n",
        "However, the differences between means of age groups were statistically significant but are small. Also the variance of improvement in players of the same age were very large. So age alone is not going to be enough for a strong model\n"
      ],
      "metadata": {
        "id": "ncf0aA-l-7od"
      }
    },
    {
      "cell_type": "markdown",
      "source": [
        "## **b) Based on Player type**"
      ],
      "metadata": {
        "id": "54cb26C3o_Ra"
      }
    },
    {
      "cell_type": "code",
      "source": [
        "#displaying statistical info of \"WS/48\" column type\n",
        "df[\"WS/48\"].describe()"
      ],
      "metadata": {
        "colab": {
          "base_uri": "https://localhost:8080/"
        },
        "id": "6EZhaMbPXvX8",
        "outputId": "73d7a575-aaa3-42d0-bb21-ef92c629e500"
      },
      "execution_count": null,
      "outputs": [
        {
          "output_type": "execute_result",
          "data": {
            "text/plain": [
              "count    10458.000000\n",
              "mean         0.093764\n",
              "std          0.054563\n",
              "min         -0.163000\n",
              "25%          0.060000\n",
              "50%          0.093000\n",
              "75%          0.126000\n",
              "max          0.325000\n",
              "Name: WS/48, dtype: float64"
            ]
          },
          "metadata": {},
          "execution_count": 17
        }
      ]
    },
    {
      "cell_type": "code",
      "source": [
        "#classifying players based on their win shares per 48 mins\n",
        "#Star Player-Players having win share more than 0.2\n",
        "star_player=df.loc[df[\"WS/48\"]>0.2,\"Improvement\"]\n",
        "#Regular Player-Players having win share between 0.1 to 0.2\n",
        "regular_player=df.loc[(df[\"WS/48\"]>0.1)&(df[\"WS/48\"]<=0.2), \"Improvement\"]\n",
        "#Roational Player-Players having win share between 0 to 0.1\n",
        "rotational_player=df.loc[(df[\"WS/48\"]>0)&(df[\"WS/48\"]<=0.1),\"Improvement\"]\n",
        "#Scrub Player-Players having win share less than 0\n",
        "scrub_player=df.loc[df[\"WS/48\"]<0,\"Improvement\"]\n",
        "win_data=[star_player,regular_player,rotational_player,scrub_player]\n",
        "labels=[\"Star Player\",\"Regular Player\",\"Rotational Player\",\"Scrub Player\"]\n",
        "colors = ['red', 'orange', 'green', 'blue']\n",
        "#Plotting histogram between players based on their Win share and their improvement\n",
        "plt.figure(figsize=(8,6))\n",
        "for i in range(len(win_data)):\n",
        "  plt.hist(win_data[i], bins=50, alpha=0.75, label=labels[i], color=colors[i])\n",
        "plt.xlabel('Improvement', fontsize=16)\n",
        "plt.ylabel('No. of players/seasons', fontsize=16)\n",
        "plt.legend(fontsize=10)\n",
        "plt.show()"
      ],
      "metadata": {
        "colab": {
          "base_uri": "https://localhost:8080/",
          "height": 393
        },
        "id": "CF93Nab683zr",
        "outputId": "55ae41d9-e85e-4390-dace-c7adbd5277bd"
      },
      "execution_count": null,
      "outputs": [
        {
          "output_type": "display_data",
          "data": {
            "text/plain": [
              "<Figure size 576x432 with 1 Axes>"
            ],
            "image/png": "[encoded data removed]"
          },
          "metadata": {
            "needs_background": "light"
          }
        }
      ]
    },
    {
      "cell_type": "code",
      "source": [
        "#calculating ANOVA score\n",
        "for i in range(len(win_data)-1):\n",
        "  F_val, P_val = stats.f_oneway(win_data[i],win_data[i+1])\n",
        "  print(\"For {} vs {}, F-test score is {} and P-value is {}\".format(labels[i],labels[i+1],F_val,P_val))"
      ],
      "metadata": {
        "colab": {
          "base_uri": "https://localhost:8080/"
        },
        "id": "9U2vQpGbcDmE",
        "outputId": "338c8ec1-29d8-40b8-f3ab-2f78411e88d7"
      },
      "execution_count": null,
      "outputs": [
        {
          "output_type": "stream",
          "name": "stdout",
          "text": [
            "For Star Player vs Regular Player, F-test score is 23.031472219835543 and P-value is 1.6443455403773137e-06\n",
            "For Regular Player vs Rotational Player, F-test score is 431.81512107034376 and P-value is 7.112912142721697e-94\n",
            "For Rotational Player vs Scrub Player, F-test score is 99.55445448311008 and P-value is 2.925559680259893e-23\n"
          ]
        }
      ]
    },
    {
      "cell_type": "markdown",
      "source": [
        "Based on this visualization, we see that bad players (scrub, rotation) tend to improve better than good players(star, regular). But such cases are less as the probability of bad players getting picked in next seasons are very less."
      ],
      "metadata": {
        "id": "WRFS3hxEps2g"
      }
    },
    {
      "cell_type": "markdown",
      "source": [
        "## **c) Based on Games Played**"
      ],
      "metadata": {
        "id": "h0onb_5vpEZo"
      }
    },
    {
      "cell_type": "code",
      "source": [
        "#classifying players based on their number of games played\n",
        "#more played-Players who played games more than 50\n",
        "more_played=df.loc[(df[\"G\"]>50) & (df[\"WS/48\"]>0.1) ,\"Improvement\"]\n",
        "#less played-Players who played games less than 50\n",
        "less_played=df.loc[(df[\"G\"]<=50) & (df[\"WS/48\"]>0.1) , \"Improvement\"]\n",
        "#Plotting histogram between players based on their games played and their improvement\n",
        "plt.figure(figsize=(8,6))\n",
        "plt.hist(more_played, bins=50, alpha=0.75, label=\"Games played > 50\")\n",
        "plt.hist(less_played, bins=50, alpha=0.75, label=\"Games played <= 50\")\n",
        "plt.xlabel('Improvement', fontsize=16)\n",
        "plt.ylabel('No. of players/seasons', fontsize=16)\n",
        "plt.legend(fontsize=10)\n",
        "plt.show()"
      ],
      "metadata": {
        "colab": {
          "base_uri": "https://localhost:8080/",
          "height": 393
        },
        "id": "MADq0wRjdTHI",
        "outputId": "e69424c0-f85d-4202-da93-67e546c6c8f1"
      },
      "execution_count": null,
      "outputs": [
        {
          "output_type": "display_data",
          "data": {
            "text/plain": [
              "<Figure size 576x432 with 1 Axes>"
            ],
            "image/png": "[encoded data removed]"
          },
          "metadata": {
            "needs_background": "light"
          }
        }
      ]
    },
    {
      "cell_type": "code",
      "source": [
        "#calculating ANOVA score\n",
        "F_val, P_val = stats.f_oneway(more_played,less_played)\n",
        "print(\"For {} vs {}, F-test score is {} and P-value is {}\".format(\"Games played > 50\",\"Games played <= 50\",F_val,P_val))"
      ],
      "metadata": {
        "colab": {
          "base_uri": "https://localhost:8080/"
        },
        "id": "idl1DFo8fx8i",
        "outputId": "42bb235f-4a9b-438f-d595-cc77cb2a7c61"
      },
      "execution_count": null,
      "outputs": [
        {
          "output_type": "stream",
          "name": "stdout",
          "text": [
            "For Games played > 50 vs Games played <= 50, F-test score is 245.2863549446787 and P-value is 6.740226826213417e-54\n"
          ]
        }
      ]
    },
    {
      "cell_type": "markdown",
      "source": [
        "GThe differences between those who played more and those who played less were statistically significant. Good players who play less matches show better improvement in further seasons when compared to those who play more matches. "
      ],
      "metadata": {
        "id": "4mjl9JdDtNGO"
      }
    },
    {
      "cell_type": "markdown",
      "source": [
        "## **d) Based on Previous Year Improvement**"
      ],
      "metadata": {
        "id": "cul2r9TtpPM3"
      }
    },
    {
      "cell_type": "code",
      "source": [
        "#calculating improvements of previous year\n",
        "improvement.columns = ['Player', 'Year', 'Imprv_prev_year']\n",
        "improvement['Year'] += 1\n",
        "df= pd.merge(df, improvement, on=['Player', 'Year'], how='left')\n",
        "df"
      ],
      "metadata": {
        "colab": {
          "base_uri": "https://localhost:8080/",
          "height": 661
        },
        "id": "CmjRE7ybjAw5",
        "outputId": "e90a98f1-8389-4848-85af-9be4cccbc0c8"
      },
      "execution_count": null,
      "outputs": [
        {
          "output_type": "execute_result",
          "data": {
            "text/plain": [
              "         Year           Player Pos   Age   Tm     G    TS%   3PAr    FTr  \\\n",
              "0      1980.0    Abdul Jeelani  SF  25.0  POR  77.0  0.563  0.011  0.361   \n",
              "1      1980.0   Adrian Dantley  SF  23.0  UTA  68.0  0.635  0.002  0.415   \n",
              "2      1980.0     Alex English  SF  26.0  IND  78.0  0.536  0.005  0.239   \n",
              "3      1980.0    Allan Bristow  SF  28.0  UTA  82.0  0.534  0.009  0.310   \n",
              "4      1980.0    Allen Leavell  PG  22.0  HOU  77.0  0.560  0.029  0.337   \n",
              "...       ...              ...  ..   ...  ...   ...    ...    ...    ...   \n",
              "10453  2017.0  Wilson Chandler  SF  29.0  DEN  71.0  0.545  0.347  0.207   \n",
              "10454  2017.0     Yogi Ferrell  PG  23.0  DAL  46.0  0.533  0.447  0.226   \n",
              "10455  2017.0      Zach LaVine  SG  21.0  MIN  47.0  0.576  0.437  0.197   \n",
              "10456  2017.0    Zach Randolph  PF  35.0  MEM  73.0  0.490  0.098  0.200   \n",
              "10457  2017.0    Zaza Pachulia   C  32.0  GSW  70.0  0.588  0.007  0.410   \n",
              "\n",
              "       TRB%  ...    FT%  Pick       GS%     FGA/48    3PA/48    FTA/48  \\\n",
              "0      11.5  ...  0.789  61.0  0.345292  21.088647  0.223950  7.614308   \n",
              "1      11.3  ...  0.842   6.0  0.812997  22.743455  0.035901  9.442034   \n",
              "2      13.1  ...  0.789  23.0  0.636405  22.250729  0.119950  5.317784   \n",
              "3      13.0  ...  0.811  21.0  0.580905  16.354167  0.145833  5.062500   \n",
              "4       4.8  ...  0.814  61.0  0.570027  14.831842  0.429581  4.996703   \n",
              "...     ...  ...    ...   ...       ...        ...       ...       ...   \n",
              "10453  11.5  ...  0.727  23.0  0.464789  20.515248  7.122440  4.238507   \n",
              "10454   5.3  ...  0.831  61.0  0.630435  15.799499  7.057644  3.568922   \n",
              "10455   5.3  ...  0.836  13.0  1.000000  19.485420  8.507719  3.842196   \n",
              "10456  19.1  ...  0.731  19.0  0.068493  25.908175  2.526316  5.187010   \n",
              "10457  17.7  ...  0.778  42.0  1.000000  11.621451  0.075710  4.769716   \n",
              "\n",
              "          PF/48        MPG  Improvement  Imprv_prev_year  \n",
              "0      5.785381  16.701299         -2.2              NaN  \n",
              "1      3.787584  39.323529          3.1              NaN  \n",
              "2      4.118284  30.782051          3.0              NaN  \n",
              "3      4.395833  28.097561         -1.7              NaN  \n",
              "4      4.454074  27.571429         -2.1              NaN  \n",
              "...         ...        ...          ...              ...  \n",
              "10453  3.757852  30.943662         -0.3              NaN  \n",
              "10454  3.609023  26.021739          1.2              NaN  \n",
              "10455  2.854202  37.212766         -2.7              0.4  \n",
              "10456  3.655095  24.465753         -1.7             -1.1  \n",
              "10457  6.283912  18.114286         -1.4             -1.3  \n",
              "\n",
              "[10458 rows x 28 columns]"
            ],
            "text/html": [
              "\n",
              "  <div id=\"df-12fe53a0-923d-44dc-883f-4a69fdd61be0\">\n",
              "    <div class=\"colab-df-container\">\n",
              "      <div>\n",
              "<style scoped>\n",
              "    .dataframe tbody tr th:only-of-type {\n",
              "        vertical-align: middle;\n",
              "    }\n",
              "\n",
              "    .dataframe tbody tr th {\n",
              "        vertical-align: top;\n",
              "    }\n",
              "\n",
              "    .dataframe thead th {\n",
              "        text-align: right;\n",
              "    }\n",
              "</style>\n",
              "<table border=\"1\" class=\"dataframe\">\n",
              "  <thead>\n",
              "    <tr style=\"text-align: right;\">\n",
              "      <th></th>\n",
              "      <th>Year</th>\n",
              "      <th>Player</th>\n",
              "      <th>Pos</th>\n",
              "      <th>Age</th>\n",
              "      <th>Tm</th>\n",
              "      <th>G</th>\n",
              "      <th>TS%</th>\n",
              "      <th>3PAr</th>\n",
              "      <th>FTr</th>\n",
              "      <th>TRB%</th>\n",
              "      <th>...</th>\n",
              "      <th>FT%</th>\n",
              "      <th>Pick</th>\n",
              "      <th>GS%</th>\n",
              "      <th>FGA/48</th>\n",
              "      <th>3PA/48</th>\n",
              "      <th>FTA/48</th>\n",
              "      <th>PF/48</th>\n",
              "      <th>MPG</th>\n",
              "      <th>Improvement</th>\n",
              "      <th>Imprv_prev_year</th>\n",
              "    </tr>\n",
              "  </thead>\n",
              "  <tbody>\n",
              "    <tr>\n",
              "      <th>0</th>\n",
              "      <td>1980.0</td>\n",
              "      <td>Abdul Jeelani</td>\n",
              "      <td>SF</td>\n",
              "      <td>25.0</td>\n",
              "      <td>POR</td>\n",
              "      <td>77.0</td>\n",
              "      <td>0.563</td>\n",
              "      <td>0.011</td>\n",
              "      <td>0.361</td>\n",
              "      <td>11.5</td>\n",
              "      <td>...</td>\n",
              "      <td>0.789</td>\n",
              "      <td>61.0</td>\n",
              "      <td>0.345292</td>\n",
              "      <td>21.088647</td>\n",
              "      <td>0.223950</td>\n",
              "      <td>7.614308</td>\n",
              "      <td>5.785381</td>\n",
              "      <td>16.701299</td>\n",
              "      <td>-2.2</td>\n",
              "      <td>NaN</td>\n",
              "    </tr>\n",
              "    <tr>\n",
              "      <th>1</th>\n",
              "      <td>1980.0</td>\n",
              "      <td>Adrian Dantley</td>\n",
              "      <td>SF</td>\n",
              "      <td>23.0</td>\n",
              "      <td>UTA</td>\n",
              "      <td>68.0</td>\n",
              "      <td>0.635</td>\n",
              "      <td>0.002</td>\n",
              "      <td>0.415</td>\n",
              "      <td>11.3</td>\n",
              "      <td>...</td>\n",
              "      <td>0.842</td>\n",
              "      <td>6.0</td>\n",
              "      <td>0.812997</td>\n",
              "      <td>22.743455</td>\n",
              "      <td>0.035901</td>\n",
              "      <td>9.442034</td>\n",
              "      <td>3.787584</td>\n",
              "      <td>39.323529</td>\n",
              "      <td>3.1</td>\n",
              "      <td>NaN</td>\n",
              "    </tr>\n",
              "    <tr>\n",
              "      <th>2</th>\n",
              "      <td>1980.0</td>\n",
              "      <td>Alex English</td>\n",
              "      <td>SF</td>\n",
              "      <td>26.0</td>\n",
              "      <td>IND</td>\n",
              "      <td>78.0</td>\n",
              "      <td>0.536</td>\n",
              "      <td>0.005</td>\n",
              "      <td>0.239</td>\n",
              "      <td>13.1</td>\n",
              "      <td>...</td>\n",
              "      <td>0.789</td>\n",
              "      <td>23.0</td>\n",
              "      <td>0.636405</td>\n",
              "      <td>22.250729</td>\n",
              "      <td>0.119950</td>\n",
              "      <td>5.317784</td>\n",
              "      <td>4.118284</td>\n",
              "      <td>30.782051</td>\n",
              "      <td>3.0</td>\n",
              "      <td>NaN</td>\n",
              "    </tr>\n",
              "    <tr>\n",
              "      <th>3</th>\n",
              "      <td>1980.0</td>\n",
              "      <td>Allan Bristow</td>\n",
              "      <td>SF</td>\n",
              "      <td>28.0</td>\n",
              "      <td>UTA</td>\n",
              "      <td>82.0</td>\n",
              "      <td>0.534</td>\n",
              "      <td>0.009</td>\n",
              "      <td>0.310</td>\n",
              "      <td>13.0</td>\n",
              "      <td>...</td>\n",
              "      <td>0.811</td>\n",
              "      <td>21.0</td>\n",
              "      <td>0.580905</td>\n",
              "      <td>16.354167</td>\n",
              "      <td>0.145833</td>\n",
              "      <td>5.062500</td>\n",
              "      <td>4.395833</td>\n",
              "      <td>28.097561</td>\n",
              "      <td>-1.7</td>\n",
              "      <td>NaN</td>\n",
              "    </tr>\n",
              "    <tr>\n",
              "      <th>4</th>\n",
              "      <td>1980.0</td>\n",
              "      <td>Allen Leavell</td>\n",
              "      <td>PG</td>\n",
              "      <td>22.0</td>\n",
              "      <td>HOU</td>\n",
              "      <td>77.0</td>\n",
              "      <td>0.560</td>\n",
              "      <td>0.029</td>\n",
              "      <td>0.337</td>\n",
              "      <td>4.8</td>\n",
              "      <td>...</td>\n",
              "      <td>0.814</td>\n",
              "      <td>61.0</td>\n",
              "      <td>0.570027</td>\n",
              "      <td>14.831842</td>\n",
              "      <td>0.429581</td>\n",
              "      <td>4.996703</td>\n",
              "      <td>4.454074</td>\n",
              "      <td>27.571429</td>\n",
              "      <td>-2.1</td>\n",
              "      <td>NaN</td>\n",
              "    </tr>\n",
              "    <tr>\n",
              "      <th>...</th>\n",
              "      <td>...</td>\n",
              "      <td>...</td>\n",
              "      <td>...</td>\n",
              "      <td>...</td>\n",
              "      <td>...</td>\n",
              "      <td>...</td>\n",
              "      <td>...</td>\n",
              "      <td>...</td>\n",
              "      <td>...</td>\n",
              "      <td>...</td>\n",
              "      <td>...</td>\n",
              "      <td>...</td>\n",
              "      <td>...</td>\n",
              "      <td>...</td>\n",
              "      <td>...</td>\n",
              "      <td>...</td>\n",
              "      <td>...</td>\n",
              "      <td>...</td>\n",
              "      <td>...</td>\n",
              "      <td>...</td>\n",
              "      <td>...</td>\n",
              "    </tr>\n",
              "    <tr>\n",
              "      <th>10453</th>\n",
              "      <td>2017.0</td>\n",
              "      <td>Wilson Chandler</td>\n",
              "      <td>SF</td>\n",
              "      <td>29.0</td>\n",
              "      <td>DEN</td>\n",
              "      <td>71.0</td>\n",
              "      <td>0.545</td>\n",
              "      <td>0.347</td>\n",
              "      <td>0.207</td>\n",
              "      <td>11.5</td>\n",
              "      <td>...</td>\n",
              "      <td>0.727</td>\n",
              "      <td>23.0</td>\n",
              "      <td>0.464789</td>\n",
              "      <td>20.515248</td>\n",
              "      <td>7.122440</td>\n",
              "      <td>4.238507</td>\n",
              "      <td>3.757852</td>\n",
              "      <td>30.943662</td>\n",
              "      <td>-0.3</td>\n",
              "      <td>NaN</td>\n",
              "    </tr>\n",
              "    <tr>\n",
              "      <th>10454</th>\n",
              "      <td>2017.0</td>\n",
              "      <td>Yogi Ferrell</td>\n",
              "      <td>PG</td>\n",
              "      <td>23.0</td>\n",
              "      <td>DAL</td>\n",
              "      <td>46.0</td>\n",
              "      <td>0.533</td>\n",
              "      <td>0.447</td>\n",
              "      <td>0.226</td>\n",
              "      <td>5.3</td>\n",
              "      <td>...</td>\n",
              "      <td>0.831</td>\n",
              "      <td>61.0</td>\n",
              "      <td>0.630435</td>\n",
              "      <td>15.799499</td>\n",
              "      <td>7.057644</td>\n",
              "      <td>3.568922</td>\n",
              "      <td>3.609023</td>\n",
              "      <td>26.021739</td>\n",
              "      <td>1.2</td>\n",
              "      <td>NaN</td>\n",
              "    </tr>\n",
              "    <tr>\n",
              "      <th>10455</th>\n",
              "      <td>2017.0</td>\n",
              "      <td>Zach LaVine</td>\n",
              "      <td>SG</td>\n",
              "      <td>21.0</td>\n",
              "      <td>MIN</td>\n",
              "      <td>47.0</td>\n",
              "      <td>0.576</td>\n",
              "      <td>0.437</td>\n",
              "      <td>0.197</td>\n",
              "      <td>5.3</td>\n",
              "      <td>...</td>\n",
              "      <td>0.836</td>\n",
              "      <td>13.0</td>\n",
              "      <td>1.000000</td>\n",
              "      <td>19.485420</td>\n",
              "      <td>8.507719</td>\n",
              "      <td>3.842196</td>\n",
              "      <td>2.854202</td>\n",
              "      <td>37.212766</td>\n",
              "      <td>-2.7</td>\n",
              "      <td>0.4</td>\n",
              "    </tr>\n",
              "    <tr>\n",
              "      <th>10456</th>\n",
              "      <td>2017.0</td>\n",
              "      <td>Zach Randolph</td>\n",
              "      <td>PF</td>\n",
              "      <td>35.0</td>\n",
              "      <td>MEM</td>\n",
              "      <td>73.0</td>\n",
              "      <td>0.490</td>\n",
              "      <td>0.098</td>\n",
              "      <td>0.200</td>\n",
              "      <td>19.1</td>\n",
              "      <td>...</td>\n",
              "      <td>0.731</td>\n",
              "      <td>19.0</td>\n",
              "      <td>0.068493</td>\n",
              "      <td>25.908175</td>\n",
              "      <td>2.526316</td>\n",
              "      <td>5.187010</td>\n",
              "      <td>3.655095</td>\n",
              "      <td>24.465753</td>\n",
              "      <td>-1.7</td>\n",
              "      <td>-1.1</td>\n",
              "    </tr>\n",
              "    <tr>\n",
              "      <th>10457</th>\n",
              "      <td>2017.0</td>\n",
              "      <td>Zaza Pachulia</td>\n",
              "      <td>C</td>\n",
              "      <td>32.0</td>\n",
              "      <td>GSW</td>\n",
              "      <td>70.0</td>\n",
              "      <td>0.588</td>\n",
              "      <td>0.007</td>\n",
              "      <td>0.410</td>\n",
              "      <td>17.7</td>\n",
              "      <td>...</td>\n",
              "      <td>0.778</td>\n",
              "      <td>42.0</td>\n",
              "      <td>1.000000</td>\n",
              "      <td>11.621451</td>\n",
              "      <td>0.075710</td>\n",
              "      <td>4.769716</td>\n",
              "      <td>6.283912</td>\n",
              "      <td>18.114286</td>\n",
              "      <td>-1.4</td>\n",
              "      <td>-1.3</td>\n",
              "    </tr>\n",
              "  </tbody>\n",
              "</table>\n",
              "<p>10458 rows × 28 columns</p>\n",
              "</div>\n",
              "      <button class=\"colab-df-convert\" onclick=\"convertToInteractive('df-12fe53a0-923d-44dc-883f-4a69fdd61be0')\"\n",
              "              title=\"Convert this dataframe to an interactive table.\"\n",
              "              style=\"display:none;\">\n",
              "        \n",
              "  <svg xmlns=\"http://www.w3.org/2000/svg\" height=\"24px\"viewBox=\"0 0 24 24\"\n",
              "       width=\"24px\">\n",
              "    <path d=\"M0 0h24v24H0V0z\" fill=\"none\"/>\n",
              "    <path d=\"M18.56 5.44l.94 2.06.94-2.06 2.06-.94-2.06-.94-.94-2.06-.94 2.06-2.06.94zm-11 1L8.5 8.5l.94-2.06 2.06-.94-2.06-.94L8.5 2.5l-.94 2.06-2.06.94zm10 10l.94 2.06.94-2.06 2.06-.94-2.06-.94-.94-2.06-.94 2.06-2.06.94z\"/><path d=\"M17.41 7.96l-1.37-1.37c-.4-.4-.92-.59-1.43-.59-.52 0-1.04.2-1.43.59L10.3 9.45l-7.72 7.72c-.78.78-.78 2.05 0 2.83L4 21.41c.39.39.9.59 1.41.59.51 0 1.02-.2 1.41-.59l7.78-7.78 2.81-2.81c.8-.78.8-2.07 0-2.86zM5.41 20L4 18.59l7.72-7.72 1.47 1.35L5.41 20z\"/>\n",
              "  </svg>\n",
              "      </button>\n",
              "      \n",
              "  <style>\n",
              "    .colab-df-container {\n",
              "      display:flex;\n",
              "      flex-wrap:wrap;\n",
              "      gap: 12px;\n",
              "    }\n",
              "\n",
              "    .colab-df-convert {\n",
              "      background-color: #E8F0FE;\n",
              "      border: none;\n",
              "      border-radius: 50%;\n",
              "      cursor: pointer;\n",
              "      display: none;\n",
              "      fill: #1967D2;\n",
              "      height: 32px;\n",
              "      padding: 0 0 0 0;\n",
              "      width: 32px;\n",
              "    }\n",
              "\n",
              "    .colab-df-convert:hover {\n",
              "      background-color: #E2EBFA;\n",
              "      box-shadow: 0px 1px 2px rgba(60, 64, 67, 0.3), 0px 1px 3px 1px rgba(60, 64, 67, 0.15);\n",
              "      fill: #174EA6;\n",
              "    }\n",
              "\n",
              "    [theme=dark] .colab-df-convert {\n",
              "      background-color: #3B4455;\n",
              "      fill: #D2E3FC;\n",
              "    }\n",
              "\n",
              "    [theme=dark] .colab-df-convert:hover {\n",
              "      background-color: #434B5C;\n",
              "      box-shadow: 0px 1px 3px 1px rgba(0, 0, 0, 0.15);\n",
              "      filter: drop-shadow(0px 1px 2px rgba(0, 0, 0, 0.3));\n",
              "      fill: #FFFFFF;\n",
              "    }\n",
              "  </style>\n",
              "\n",
              "      <script>\n",
              "        const buttonEl =\n",
              "          document.querySelector('#df-12fe53a0-923d-44dc-883f-4a69fdd61be0 button.colab-df-convert');\n",
              "        buttonEl.style.display =\n",
              "          google.colab.kernel.accessAllowed ? 'block' : 'none';\n",
              "\n",
              "        async function convertToInteractive(key) {\n",
              "          const element = document.querySelector('#df-12fe53a0-923d-44dc-883f-4a69fdd61be0');\n",
              "          const dataTable =\n",
              "            await google.colab.kernel.invokeFunction('convertToInteractive',\n",
              "                                                     [key], {});\n",
              "          if (!dataTable) return;\n",
              "\n",
              "          const docLinkHtml = 'Like what you see? Visit the ' +\n",
              "            '<a target=\"_blank\" href=https://colab.research.google.com/notebooks/data_table.ipynb>data table notebook</a>'\n",
              "            + ' to learn more about interactive tables.';\n",
              "          element.innerHTML = '';\n",
              "          dataTable['output_type'] = 'display_data';\n",
              "          await google.colab.output.renderOutput(dataTable, element);\n",
              "          const docLink = document.createElement('div');\n",
              "          docLink.innerHTML = docLinkHtml;\n",
              "          element.appendChild(docLink);\n",
              "        }\n",
              "      </script>\n",
              "    </div>\n",
              "  </div>\n",
              "  "
            ]
          },
          "metadata": {},
          "execution_count": 22
        }
      ]
    },
    {
      "cell_type": "code",
      "source": [
        "#checking null values of newly added columns\n",
        "df.isna().sum()"
      ],
      "metadata": {
        "colab": {
          "base_uri": "https://localhost:8080/"
        },
        "id": "54s9_tTprEDW",
        "outputId": "9d4c95f3-1690-4df7-8c0b-f72ed4bf8648"
      },
      "execution_count": null,
      "outputs": [
        {
          "output_type": "execute_result",
          "data": {
            "text/plain": [
              "Year                  0\n",
              "Player                0\n",
              "Pos                   0\n",
              "Age                   0\n",
              "Tm                    0\n",
              "G                     0\n",
              "TS%                   0\n",
              "3PAr                  0\n",
              "FTr                   0\n",
              "TRB%                  0\n",
              "AST%                  0\n",
              "STL%                  0\n",
              "BLK%                  0\n",
              "TOV%                  0\n",
              "USG%                  0\n",
              "WS                    0\n",
              "WS/48                 0\n",
              "3P%                   0\n",
              "FT%                   0\n",
              "Pick                  0\n",
              "GS%                   0\n",
              "FGA/48                0\n",
              "3PA/48                0\n",
              "FTA/48                0\n",
              "PF/48                 0\n",
              "MPG                   0\n",
              "Improvement           0\n",
              "Imprv_prev_year    2029\n",
              "dtype: int64"
            ]
          },
          "metadata": {},
          "execution_count": 23
        }
      ]
    },
    {
      "cell_type": "code",
      "source": [
        "#plotting scatter plot between their previous year improvement and their current improvement\n",
        "df.fillna(0,inplace=True)\n",
        "plt.figure(figsize=(8,8))\n",
        "sns.jointplot(x='Imprv_prev_year', y='Improvement', data=df, kind='reg', scatter_kws={'s':10})\n",
        "plt.xlabel('Improvement last year', fontsize=16)\n",
        "plt.ylabel('Improvement', fontsize=16)\n",
        "plt.show()"
      ],
      "metadata": {
        "colab": {
          "base_uri": "https://localhost:8080/",
          "height": 458
        },
        "id": "TuBEFtGeri6B",
        "outputId": "84cfd81b-257a-49cb-8c76-ac42a666d024"
      },
      "execution_count": null,
      "outputs": [
        {
          "output_type": "display_data",
          "data": {
            "text/plain": [
              "<Figure size 576x576 with 0 Axes>"
            ]
          },
          "metadata": {}
        },
        {
          "output_type": "display_data",
          "data": {
            "text/plain": [
              "<Figure size 432x432 with 3 Axes>"
            ],
            "image/png": "[encoded data removed]"
          },
          "metadata": {
            "needs_background": "light"
          }
        }
      ]
    },
    {
      "cell_type": "markdown",
      "source": [
        "It shows that a players's improvement is more often negatively correlated with his improvement in previous year"
      ],
      "metadata": {
        "id": "1Bry-oaYbkKs"
      }
    },
    {
      "cell_type": "code",
      "source": [
        "#Calculating correlation between Improvement and other variables in dataframe\n",
        "df.corr()[\"Improvement\"]"
      ],
      "metadata": {
        "colab": {
          "base_uri": "https://localhost:8080/"
        },
        "id": "ebwtHsmor8pl",
        "outputId": "5e45439d-a6e5-4ab6-aed6-1f28a9f5326c"
      },
      "execution_count": null,
      "outputs": [
        {
          "output_type": "execute_result",
          "data": {
            "text/plain": [
              "Year              -0.000981\n",
              "Age               -0.238224\n",
              "G                 -0.286939\n",
              "TS%               -0.219079\n",
              "3PAr              -0.024807\n",
              "FTr               -0.010910\n",
              "TRB%              -0.009925\n",
              "AST%              -0.023916\n",
              "STL%               0.009947\n",
              "BLK%               0.022059\n",
              "TOV%               0.121751\n",
              "USG%              -0.000674\n",
              "WS                -0.336901\n",
              "WS/48             -0.282146\n",
              "3P%               -0.056580\n",
              "FT%               -0.090723\n",
              "Pick              -0.006572\n",
              "GS%               -0.182506\n",
              "FGA/48            -0.012434\n",
              "3PA/48            -0.026075\n",
              "FTA/48            -0.025650\n",
              "PF/48              0.104763\n",
              "MPG               -0.198148\n",
              "Improvement        1.000000\n",
              "Imprv_prev_year   -0.270284\n",
              "Name: Improvement, dtype: float64"
            ]
          },
          "metadata": {},
          "execution_count": 25
        }
      ]
    },
    {
      "cell_type": "markdown",
      "source": [
        "Based on visualizations and correlation between variables, we see that factors such as age, games played, minutes played, last season's improvement, etc. that had significant impact on player improvement next season"
      ],
      "metadata": {
        "id": "DYBVy08tgrCh"
      }
    },
    {
      "cell_type": "markdown",
      "source": [
        "# **DATA MODELLING**\n",
        "\n"
      ],
      "metadata": {
        "id": "4KAuOGEy_1FJ"
      }
    },
    {
      "cell_type": "markdown",
      "source": [
        "## **Regression Models**"
      ],
      "metadata": {
        "id": "yJNaXNoBfkm9"
      }
    },
    {
      "cell_type": "markdown",
      "source": [
        "We initialize dependent and independent variables X, Y. For X, we drop those particular columns that doesn't show much impact on Improvement of the player\n",
        "\n",
        "\n",
        "Since the most of the values are in percentages, we use MinMaxScaler to scale the values between 0 to 1"
      ],
      "metadata": {
        "id": "2EYA2MJmIGa-"
      }
    },
    {
      "cell_type": "code",
      "source": [
        "#initializing X and Y\n",
        "X=df.loc[:, ~df.columns.isin(['Year','Player','Pos', 'Tm','Improvement','WS'])]\n",
        "Y=df[\"Improvement\"]\n",
        "#importing MinMaxScaler to scale data\n",
        "from sklearn.preprocessing import MinMaxScaler\n",
        "scaler = MinMaxScaler()\n",
        "X_scaled = scaler.fit_transform(X)"
      ],
      "metadata": {
        "id": "xQrbbc_IuLWC"
      },
      "execution_count": null,
      "outputs": []
    },
    {
      "cell_type": "code",
      "source": [
        "#splitting the scaled data for training and testing\n",
        "from sklearn.model_selection import train_test_split\n",
        "Xtrain, Xtest, ytrain, ytest = train_test_split(X_scaled, Y, random_state=0)"
      ],
      "metadata": {
        "id": "B4239KLAuMOg"
      },
      "execution_count": null,
      "outputs": []
    },
    {
      "cell_type": "markdown",
      "source": [
        "### **1. Linear Regression**"
      ],
      "metadata": {
        "id": "wX67YDeaAKS7"
      }
    },
    {
      "cell_type": "code",
      "source": [
        "#fitting the training data into our Linear regression model and predicting improvement\n",
        "from sklearn.linear_model import LinearRegression\n",
        "from sklearn.metrics import mean_squared_error\n",
        "lin_reg = LinearRegression()\n",
        "lin_reg.fit(Xtrain, ytrain)\n",
        "ypred = lin_reg.predict(Xtest)\n",
        "#Calculating root mean squared error value of the model to check the performance of the model\n",
        "print('RMSE of linear regression model is', np.sqrt(mean_squared_error(ytest, ypred)))"
      ],
      "metadata": {
        "colab": {
          "base_uri": "https://localhost:8080/"
        },
        "id": "6iKURpMJwHpj",
        "outputId": "caf6edb4-b376-4586-8294-d49837734491"
      },
      "execution_count": null,
      "outputs": [
        {
          "output_type": "stream",
          "name": "stdout",
          "text": [
            "RMSE of linear regression model is 1.9907781948639696\n"
          ]
        }
      ]
    },
    {
      "cell_type": "markdown",
      "source": [
        "### **2. Ridge Regression**"
      ],
      "metadata": {
        "id": "0amsm18YAL4X"
      }
    },
    {
      "cell_type": "code",
      "source": [
        "#fitting the training data into our Ridge regression model and predicting improvement\n",
        "from sklearn.linear_model import Ridge\n",
        "ridge_reg = Ridge(alpha=0.01)\n",
        "ridge_reg.fit(Xtrain, ytrain)\n",
        "ypred = ridge_reg.predict(Xtest)\n",
        "#Calculating root mean squared error value of the model to check the performance of the model\n",
        "print('RMSE of ridge regression model is', np.sqrt(mean_squared_error(ytest, ypred)))"
      ],
      "metadata": {
        "colab": {
          "base_uri": "https://localhost:8080/"
        },
        "id": "BH8qIuyd1qvy",
        "outputId": "789ee919-7b78-4d69-e2fe-cf3813cce813"
      },
      "execution_count": null,
      "outputs": [
        {
          "output_type": "stream",
          "name": "stdout",
          "text": [
            "RMSE of ridge regression model is 1.9907854547591994\n"
          ]
        }
      ]
    },
    {
      "cell_type": "code",
      "source": [
        "#plotting cumulative histograms to compare predicted improvement with actual improvement\n",
        "plt.figure(figsize=(8,6))\n",
        "plt.hist(ytest, bins=30, alpha=0.5, density=True, label='Actual Improvement')\n",
        "plt.hist(ypred, bins=30, alpha=0.5, density=True, label='Predicted Improvement')\n",
        "plt.xlabel('Improvement', fontsize=16)\n",
        "plt.ylabel('Normalized Distribution Function', fontsize=16)\n",
        "plt.legend(fontsize=12)"
      ],
      "metadata": {
        "colab": {
          "base_uri": "https://localhost:8080/",
          "height": 410
        },
        "id": "cv10sKpzdO9x",
        "outputId": "3aa846a8-e221-4c53-b160-69b6f11d2c57"
      },
      "execution_count": null,
      "outputs": [
        {
          "output_type": "execute_result",
          "data": {
            "text/plain": [
              "<matplotlib.legend.Legend at 0x7fa8c4b1d810>"
            ]
          },
          "metadata": {},
          "execution_count": 30
        },
        {
          "output_type": "display_data",
          "data": {
            "text/plain": [
              "<Figure size 576x432 with 1 Axes>"
            ],
            "image/png": "[encoded data removed]"
          },
          "metadata": {
            "needs_background": "light"
          }
        }
      ]
    },
    {
      "cell_type": "markdown",
      "source": [
        "As we see, the predicted improvement is varying a lot from actual improvement.    \n",
        "\n",
        "\n",
        "This might occur due to the uneven distribution of player improvement because players with little improvement were more common than players with big improvement. Therefore, the models tried to prioritize minimizing errors on players with little improvement when RMSE was used as the evaluation metric"
      ],
      "metadata": {
        "id": "RjST2cW0XVNn"
      }
    },
    {
      "cell_type": "code",
      "source": [
        "# #importing MinMaxScaler to scale data\n",
        "# from sklearn.preprocessing import Normalize\n",
        "# scaler = PowerTransformer(standardize=False)\n",
        "# X_scaled1 = scaler.fit_transform(X)\n",
        "# #fitting the training data into our Ridge regression model and predicting improvement\n",
        "# #splitting the scaled data for training and testing\n",
        "# from sklearn.model_selection import train_test_split\n",
        "# Xtrain, Xtest, ytrain, ytest = train_test_split(X_scaled1, Y, random_state=0)\n",
        "# from sklearn.linear_model import Ridge\n",
        "# ridge_reg = Ridge(alpha=0.01)\n",
        "# ridge_reg.fit(Xtrain, ytrain)\n",
        "# ypred = ridge_reg.predict(Xtest)\n",
        "# #Calculating root mean squared error value of the model to check the performance of the model\n",
        "# print('RMSE of ridge regression model is', np.sqrt(mean_squared_error(ytest, ypred)))"
      ],
      "metadata": {
        "id": "IXIByn6heGBu"
      },
      "execution_count": null,
      "outputs": []
    },
    {
      "cell_type": "code",
      "source": [
        "# plt.figure(figsize=(8,6))\n",
        "# plt.hist(ytest, bins=30, alpha=0.5, density=True, label='Actual Improvement')\n",
        "# plt.hist(ypred, bins=30, alpha=0.5, density=True, label='Predicted Improvement')\n",
        "# plt.xlabel('Improvement', fontsize=16)\n",
        "# plt.ylabel('Normalized Distribution Function', fontsize=16)\n",
        "# plt.legend(fontsize=12)"
      ],
      "metadata": {
        "id": "rjGNFvzxejQh"
      },
      "execution_count": null,
      "outputs": []
    },
    {
      "cell_type": "markdown",
      "source": [
        "Many scalers were tried to scale values in a way that values with larger improvement were given priority.\n",
        "\n",
        "Hence, we assign weights to values by dividing them with the number of samples with similar target values."
      ],
      "metadata": {
        "id": "IhL95ZpmYYS2"
      }
    },
    {
      "cell_type": "markdown",
      "source": [
        "### **Scaling data w.r.t their weights**"
      ],
      "metadata": {
        "id": "VANvE9H_RPEe"
      }
    },
    {
      "cell_type": "code",
      "source": [
        "from collections import Counter\n",
        "def scale_data(x):\n",
        "    data = x.copy()\n",
        "    #considering -5 and 5 as outliers\n",
        "    data[data>5] = 5\n",
        "    data[data<-5] = -5\n",
        "    #initialising counter series to store the count of different target values\n",
        "    n = Counter(np.round(data, 0))\n",
        "    #calculating weights\n",
        "    def transform_values(value):\n",
        "        if value > 5:\n",
        "            return 1/n[5]\n",
        "        elif value < -5:\n",
        "            return 1/n[-5]\n",
        "        else:\n",
        "            return 1/n[np.round(value, 0)]\n",
        "    return np.vectorize(transform_values)(x)\n",
        "#Scaling weights for training data\n",
        "ytrain_weights = scale_data(ytrain)\n",
        "#Scaling weights for testing data\n",
        "ytest_weights = scale_data(ytest)"
      ],
      "metadata": {
        "id": "YKS5UEwegdFS"
      },
      "execution_count": null,
      "outputs": []
    },
    {
      "cell_type": "code",
      "source": [
        "#fitting the re-scaled training data into our Linear regression model and predicting improvement\n",
        "from sklearn.linear_model import LinearRegression\n",
        "lin_reg = LinearRegression()\n",
        "lin_reg.fit(Xtrain, ytrain, sample_weight=ytrain_weights)\n",
        "ypred = lin_reg.predict(Xtest)\n",
        "#Calculating root mean squared error value of the model to check the performance of the model\n",
        "lin_score=np.sqrt(mean_squared_error(ytest, ypred,sample_weight=ytest_weights))\n",
        "print('RMSE of linear regression model is', lin_score)"
      ],
      "metadata": {
        "colab": {
          "base_uri": "https://localhost:8080/"
        },
        "id": "kYB58SO5nd7M",
        "outputId": "1c9eac42-22aa-42bf-a80e-c3fdc30cb0eb"
      },
      "execution_count": null,
      "outputs": [
        {
          "output_type": "stream",
          "name": "stdout",
          "text": [
            "RMSE of linear regression model is 2.6970224054950336\n"
          ]
        }
      ]
    },
    {
      "cell_type": "code",
      "source": [
        "#plotting cumulative histograms to compare predicted improvement with actual improvement\n",
        "plt.figure(figsize=(8,6))\n",
        "plt.hist(ytest, bins=30, alpha=0.5, density=True, label='Actual Improvement')\n",
        "plt.hist(ypred, bins=30, alpha=0.5, density=True, label='Predicted Improvement')\n",
        "plt.xlabel('Improvement', fontsize=16)\n",
        "plt.ylabel('Normalized Distribution Function', fontsize=16)\n",
        "plt.legend(fontsize=12)"
      ],
      "metadata": {
        "colab": {
          "base_uri": "https://localhost:8080/",
          "height": 410
        },
        "id": "V-U_MBFugs0i",
        "outputId": "6f7fd247-e4cd-4248-db1f-d7fa760af3ef"
      },
      "execution_count": null,
      "outputs": [
        {
          "output_type": "execute_result",
          "data": {
            "text/plain": [
              "<matplotlib.legend.Legend at 0x7fa8c472fc50>"
            ]
          },
          "metadata": {},
          "execution_count": 35
        },
        {
          "output_type": "display_data",
          "data": {
            "text/plain": [
              "<Figure size 576x432 with 1 Axes>"
            ],
            "image/png": "[encoded data removed]"
          },
          "metadata": {
            "needs_background": "light"
          }
        }
      ]
    },
    {
      "cell_type": "markdown",
      "source": [
        "As we see, after assigning weights, the predicted improvement almost matches actual improvement improving accuracy of the models."
      ],
      "metadata": {
        "id": "8yiHVnNZZBRl"
      }
    },
    {
      "cell_type": "code",
      "source": [
        "#fitting the re-scaled training data into our Ridge regression model and predicting improvement\n",
        "from sklearn.linear_model import Ridge\n",
        "ridge_reg = Ridge(alpha=0.01)\n",
        "ridge_reg.fit(Xtrain, ytrain, sample_weight=ytrain_weights)\n",
        "ypred = ridge_reg.predict(Xtest)\n",
        "ridge_score = np.sqrt(mean_squared_error(ytest, ypred,sample_weight=ytest_weights))\n",
        "#Calculating root mean squared error value of the model to check the performance of the model\n",
        "print('RMSE of ridge regression model is',ridge_score)"
      ],
      "metadata": {
        "colab": {
          "base_uri": "https://localhost:8080/"
        },
        "id": "aqMzRB_tNh1n",
        "outputId": "91e0810f-fa7c-42b3-c391-14953fa2da14"
      },
      "execution_count": null,
      "outputs": [
        {
          "output_type": "stream",
          "name": "stdout",
          "text": [
            "RMSE of ridge regression model is 2.706235535749749\n"
          ]
        }
      ]
    },
    {
      "cell_type": "markdown",
      "source": [
        "### **3. SVM**"
      ],
      "metadata": {
        "id": "xVCO75_rn2Jj"
      }
    },
    {
      "cell_type": "code",
      "source": [
        "#importing svm model and fitting the re-scaled training data into our svm regression model and predicting improvement\n",
        "from sklearn.svm import SVR\n",
        "#checking the apt c value for better prediction\n",
        "for c in [1, 10, 100, 1000, 10000, 1e5]:\n",
        "  svr = SVR(C=c)\n",
        "  svr.fit(Xtrain, ytrain, sample_weight=ytrain_weights)\n",
        "  ypred = svr.predict(Xtest)\n",
        "  ytest_weights = scale_data(ytest)\n",
        "  #Calculating root mean squared error value of the model to check the performance of the model\n",
        "  svr_score=np.sqrt(mean_squared_error(ytest, ypred, sample_weight=ytest_weights))\n",
        "  if c==100:\n",
        "    svr_score1=svr_score\n",
        "  print('The root of weighted squared error of the model with c={} is {}'.format(c,svr_score))"
      ],
      "metadata": {
        "colab": {
          "base_uri": "https://localhost:8080/"
        },
        "id": "NSOmru-Xn8Xz",
        "outputId": "6529cd8b-6e02-4817-9349-d3ddc1b5bf2b"
      },
      "execution_count": null,
      "outputs": [
        {
          "output_type": "stream",
          "name": "stdout",
          "text": [
            "The root of weighted squared error of the model with c=1 is 3.2760512272433298\n",
            "The root of weighted squared error of the model with c=10 is 2.952261608808606\n",
            "The root of weighted squared error of the model with c=100 is 2.6804809516475223\n",
            "The root of weighted squared error of the model with c=1000 is 2.688118341116455\n",
            "The root of weighted squared error of the model with c=10000 is 2.78322574427244\n",
            "The root of weighted squared error of the model with c=100000.0 is 3.0434447464056267\n"
          ]
        }
      ]
    },
    {
      "cell_type": "markdown",
      "source": [
        "### **4. Random Forest**"
      ],
      "metadata": {
        "id": "79N8bObzCN25"
      }
    },
    {
      "cell_type": "code",
      "source": [
        "#importing random-forest model \n",
        "from sklearn.ensemble import RandomForestRegressor\n",
        "# best_rsme=5\n",
        "# n_value=0\n",
        "# m_value=0\n",
        "# for n in [101, 201, 401, 601,801]:\n",
        "#     for m in [10, 100, 200, 300]:\n",
        "#       rf = RandomForestRegressor(random_state=0, n_estimators=n, min_samples_split=m)\n",
        "#       rf.fit(Xtrain, ytrain, sample_weight=ytrain_weights)\n",
        "#       ypred = rf.predict(Xtest)\n",
        "#       rsme=np.sqrt(mean_squared_error(ytest, ypred, sample_weight=ytest_weights))\n",
        "#       # if rsme<best_rsme:\n",
        "#         # best_rsme=rsme\n",
        "#         # n_value=n\n",
        "#         # m_value=m\n",
        "#       print(\"The rsme of this random forest regressor model with n-estimators={} and min_samples_split={} is {}\".format(n,m,rsme))\n",
        "\n",
        "#Initialising and fitting the re-scaled training data into our random-forest regression model and predicting improvement\n",
        "#parameters are assigned after checking the best values for better prediction\n",
        "rf = RandomForestRegressor(random_state=2, n_estimators=201, min_samples_split=200)\n",
        "rf.fit(Xtrain, ytrain, sample_weight=ytrain_weights)\n",
        "ypred = rf.predict(Xtest)\n",
        "#Calculating root mean squared error value of the model to check the performance of the model\n",
        "rf_score=np.sqrt(mean_squared_error(ytest, ypred, sample_weight=ytest_weights))\n",
        "print('The root of weighted squared error of this Random-forest model is', \n",
        "      rf_score)"
      ],
      "metadata": {
        "colab": {
          "base_uri": "https://localhost:8080/"
        },
        "id": "EOUcU0O3CNRk",
        "outputId": "c5af6b75-2872-4091-e0b6-94f2b097c945"
      },
      "execution_count": null,
      "outputs": [
        {
          "output_type": "stream",
          "name": "stdout",
          "text": [
            "The root of weighted squared error of this Random-forest model is 2.689723351003631\n"
          ]
        }
      ]
    },
    {
      "cell_type": "markdown",
      "source": [
        "### **5. Gradient boost regressor**"
      ],
      "metadata": {
        "id": "3Xdhs5tZNNBj"
      }
    },
    {
      "cell_type": "code",
      "source": [
        "#importing Gradient-boost regressor model\n",
        "from sklearn.ensemble import GradientBoostingRegressor\n",
        "# best_rsme=5\n",
        "# n_value=0\n",
        "# m_value=0\n",
        "# depth=0\n",
        "# for d in [2, 3, 5, 10]:\n",
        "#   for n in [101, 201, 401, 601]:\n",
        "#     for m in [10, 100, 200]:\n",
        "#       gb = GradientBoostingRegressor(\n",
        "#         random_state=42, max_depth=d, max_features='sqrt', min_samples_split=m,\n",
        "#         learning_rate=0.05, n_estimators=m)\n",
        "#       gb.fit(Xtrain, ytrain, sample_weight=ytrain_weights)\n",
        "#       ypred = gb.predict(Xtest)\n",
        "#       rsme=np.sqrt(mean_squared_error(ytest, ypred, sample_weight=ytest_weights))\n",
        "#       if rsme<best_rsme:\n",
        "#         best_rsme=rsme\n",
        "#         n_value=n\n",
        "#         m_value=m\n",
        "#         depth=d\n",
        "# print('The root of weighted squared error of this model with max_depth={}, learning rate=0.05, min_samples_split={} and n_estimators={} is {}'.format(depth,m_value,n_value,best_rsme))\n",
        "\n",
        "\n",
        "#Initialising and fitting the re-scaled training data into our Gradient-boost regression model and predicting improvement\n",
        "#parameters are assigned after checking the best values for better prediction\n",
        "gb = GradientBoostingRegressor(\n",
        "        random_state=2, max_depth=2, max_features='sqrt', min_samples_split=200,\n",
        "        learning_rate=0.05, n_estimators=101\n",
        "     )\n",
        "gb.fit(Xtrain, ytrain, sample_weight=ytrain_weights)\n",
        "ypred = gb.predict(Xtest)\n",
        "#Calculating root mean squared error value of the model to check the performance of the model\n",
        "gb_score=np.sqrt(mean_squared_error(ytest, ypred,sample_weight=ytest_weights))\n",
        "print('The root of weighted squared error of this model is', \n",
        "      gb_score)"
      ],
      "metadata": {
        "colab": {
          "base_uri": "https://localhost:8080/"
        },
        "id": "D2gsAaf3JSIk",
        "outputId": "9e72b742-17ad-47d4-cbfa-10e54cec5393"
      },
      "execution_count": null,
      "outputs": [
        {
          "output_type": "stream",
          "name": "stdout",
          "text": [
            "The root of weighted squared error of this model is 2.7025025454637057\n"
          ]
        }
      ]
    },
    {
      "cell_type": "markdown",
      "source": [
        "### ***Comparing performance of the models***"
      ],
      "metadata": {
        "id": "yrpHPOJ5ZZlm"
      }
    },
    {
      "cell_type": "code",
      "source": [
        "#creating a dataframe to display each model's accuracy\n",
        "pd.DataFrame({\"Linear Regression\":lin_score,\"Ridge Regression\":ridge_score,\"SVM Regressor\":svr_score1,\"Random forest Regression\":rf_score,\"Gradient boost Regression\":gb_score},index=[\"RSME\"])"
      ],
      "metadata": {
        "colab": {
          "base_uri": "https://localhost:8080/",
          "height": 81
        },
        "id": "2VNxvsoxT9Qk",
        "outputId": "4f2588a6-89bf-4f46-f633-66c433583f7c"
      },
      "execution_count": null,
      "outputs": [
        {
          "output_type": "execute_result",
          "data": {
            "text/plain": [
              "      Linear Regression  Ridge Regression  SVM Regressor  \\\n",
              "RSME           2.697022          2.706236       2.680481   \n",
              "\n",
              "      Random forest Regression  Gradient boost Regression  \n",
              "RSME                  2.689723                   2.702503  "
            ],
            "text/html": [
              "\n",
              "  <div id=\"df-1c391f6b-9dff-40ec-aff1-d5391e6e4947\">\n",
              "    <div class=\"colab-df-container\">\n",
              "      <div>\n",
              "<style scoped>\n",
              "    .dataframe tbody tr th:only-of-type {\n",
              "        vertical-align: middle;\n",
              "    }\n",
              "\n",
              "    .dataframe tbody tr th {\n",
              "        vertical-align: top;\n",
              "    }\n",
              "\n",
              "    .dataframe thead th {\n",
              "        text-align: right;\n",
              "    }\n",
              "</style>\n",
              "<table border=\"1\" class=\"dataframe\">\n",
              "  <thead>\n",
              "    <tr style=\"text-align: right;\">\n",
              "      <th></th>\n",
              "      <th>Linear Regression</th>\n",
              "      <th>Ridge Regression</th>\n",
              "      <th>SVM Regressor</th>\n",
              "      <th>Random forest Regression</th>\n",
              "      <th>Gradient boost Regression</th>\n",
              "    </tr>\n",
              "  </thead>\n",
              "  <tbody>\n",
              "    <tr>\n",
              "      <th>RSME</th>\n",
              "      <td>2.697022</td>\n",
              "      <td>2.706236</td>\n",
              "      <td>2.680481</td>\n",
              "      <td>2.689723</td>\n",
              "      <td>2.702503</td>\n",
              "    </tr>\n",
              "  </tbody>\n",
              "</table>\n",
              "</div>\n",
              "      <button class=\"colab-df-convert\" onclick=\"convertToInteractive('df-1c391f6b-9dff-40ec-aff1-d5391e6e4947')\"\n",
              "              title=\"Convert this dataframe to an interactive table.\"\n",
              "              style=\"display:none;\">\n",
              "        \n",
              "  <svg xmlns=\"http://www.w3.org/2000/svg\" height=\"24px\"viewBox=\"0 0 24 24\"\n",
              "       width=\"24px\">\n",
              "    <path d=\"M0 0h24v24H0V0z\" fill=\"none\"/>\n",
              "    <path d=\"M18.56 5.44l.94 2.06.94-2.06 2.06-.94-2.06-.94-.94-2.06-.94 2.06-2.06.94zm-11 1L8.5 8.5l.94-2.06 2.06-.94-2.06-.94L8.5 2.5l-.94 2.06-2.06.94zm10 10l.94 2.06.94-2.06 2.06-.94-2.06-.94-.94-2.06-.94 2.06-2.06.94z\"/><path d=\"M17.41 7.96l-1.37-1.37c-.4-.4-.92-.59-1.43-.59-.52 0-1.04.2-1.43.59L10.3 9.45l-7.72 7.72c-.78.78-.78 2.05 0 2.83L4 21.41c.39.39.9.59 1.41.59.51 0 1.02-.2 1.41-.59l7.78-7.78 2.81-2.81c.8-.78.8-2.07 0-2.86zM5.41 20L4 18.59l7.72-7.72 1.47 1.35L5.41 20z\"/>\n",
              "  </svg>\n",
              "      </button>\n",
              "      \n",
              "  <style>\n",
              "    .colab-df-container {\n",
              "      display:flex;\n",
              "      flex-wrap:wrap;\n",
              "      gap: 12px;\n",
              "    }\n",
              "\n",
              "    .colab-df-convert {\n",
              "      background-color: #E8F0FE;\n",
              "      border: none;\n",
              "      border-radius: 50%;\n",
              "      cursor: pointer;\n",
              "      display: none;\n",
              "      fill: #1967D2;\n",
              "      height: 32px;\n",
              "      padding: 0 0 0 0;\n",
              "      width: 32px;\n",
              "    }\n",
              "\n",
              "    .colab-df-convert:hover {\n",
              "      background-color: #E2EBFA;\n",
              "      box-shadow: 0px 1px 2px rgba(60, 64, 67, 0.3), 0px 1px 3px 1px rgba(60, 64, 67, 0.15);\n",
              "      fill: #174EA6;\n",
              "    }\n",
              "\n",
              "    [theme=dark] .colab-df-convert {\n",
              "      background-color: #3B4455;\n",
              "      fill: #D2E3FC;\n",
              "    }\n",
              "\n",
              "    [theme=dark] .colab-df-convert:hover {\n",
              "      background-color: #434B5C;\n",
              "      box-shadow: 0px 1px 3px 1px rgba(0, 0, 0, 0.15);\n",
              "      filter: drop-shadow(0px 1px 2px rgba(0, 0, 0, 0.3));\n",
              "      fill: #FFFFFF;\n",
              "    }\n",
              "  </style>\n",
              "\n",
              "      <script>\n",
              "        const buttonEl =\n",
              "          document.querySelector('#df-1c391f6b-9dff-40ec-aff1-d5391e6e4947 button.colab-df-convert');\n",
              "        buttonEl.style.display =\n",
              "          google.colab.kernel.accessAllowed ? 'block' : 'none';\n",
              "\n",
              "        async function convertToInteractive(key) {\n",
              "          const element = document.querySelector('#df-1c391f6b-9dff-40ec-aff1-d5391e6e4947');\n",
              "          const dataTable =\n",
              "            await google.colab.kernel.invokeFunction('convertToInteractive',\n",
              "                                                     [key], {});\n",
              "          if (!dataTable) return;\n",
              "\n",
              "          const docLinkHtml = 'Like what you see? Visit the ' +\n",
              "            '<a target=\"_blank\" href=https://colab.research.google.com/notebooks/data_table.ipynb>data table notebook</a>'\n",
              "            + ' to learn more about interactive tables.';\n",
              "          element.innerHTML = '';\n",
              "          dataTable['output_type'] = 'display_data';\n",
              "          await google.colab.output.renderOutput(dataTable, element);\n",
              "          const docLink = document.createElement('div');\n",
              "          docLink.innerHTML = docLinkHtml;\n",
              "          element.appendChild(docLink);\n",
              "        }\n",
              "      </script>\n",
              "    </div>\n",
              "  </div>\n",
              "  "
            ]
          },
          "metadata": {},
          "execution_count": 40
        }
      ]
    },
    {
      "cell_type": "markdown",
      "source": [
        "## **Classification Models**"
      ],
      "metadata": {
        "id": "JqdCqeEVfia9"
      }
    },
    {
      "cell_type": "code",
      "source": [
        "#Trabsforming target variables to classes\n",
        "ytrain_class = (ytrain >= 0).astype(int)\n",
        "ytest_class = (ytest >= 0).astype(int)\n",
        "ytrain_class"
      ],
      "metadata": {
        "colab": {
          "base_uri": "https://localhost:8080/"
        },
        "id": "fbpnhX1egv-R",
        "outputId": "136e1172-550a-4730-e170-73babd28cedf"
      },
      "execution_count": null,
      "outputs": [
        {
          "output_type": "execute_result",
          "data": {
            "text/plain": [
              "4103    0\n",
              "9047    1\n",
              "8684    1\n",
              "9347    1\n",
              "9734    1\n",
              "       ..\n",
              "9225    1\n",
              "4859    1\n",
              "3264    1\n",
              "9845    0\n",
              "2732    1\n",
              "Name: Improvement, Length: 7843, dtype: int64"
            ]
          },
          "metadata": {},
          "execution_count": 41
        }
      ]
    },
    {
      "cell_type": "code",
      "source": [
        "# defining a function to indicate best values of the parameters for the models to perform better\n",
        "from sklearn.model_selection import GridSearchCV\n",
        "def best_parameter(clf, params, Xtrain, ytrain):\n",
        "    model = GridSearchCV(clf, params, scoring='neg_log_loss', n_jobs=-1)\n",
        "    model.fit(Xtrain, ytrain)\n",
        "    print('Best parameters were', model.best_params_)"
      ],
      "metadata": {
        "id": "0Vvi2nNDgfrx"
      },
      "execution_count": null,
      "outputs": []
    },
    {
      "cell_type": "markdown",
      "source": [
        "### **1. Logistic Regression**"
      ],
      "metadata": {
        "id": "798Eo5S0gLD1"
      }
    },
    {
      "cell_type": "code",
      "source": [
        "#importing Logistic regression model\n",
        "from sklearn.linear_model import LogisticRegression\n",
        "clf = LogisticRegression()\n",
        "params = {\n",
        "    'C': [0.1, 1, 10, 100],\n",
        "    'penalty': ['l1', 'l2']\n",
        "}\n",
        "#checking the best values for the required parameters\n",
        "best_parameter(clf, params, Xtrain, ytrain_class)"
      ],
      "metadata": {
        "colab": {
          "base_uri": "https://localhost:8080/"
        },
        "id": "uYh3_s3LgVtH",
        "outputId": "c1273772-0b2b-4ecc-c443-9d1293a86ded"
      },
      "execution_count": null,
      "outputs": [
        {
          "output_type": "stream",
          "name": "stdout",
          "text": [
            "Best parameters were {'C': 1, 'penalty': 'l2'}\n"
          ]
        }
      ]
    },
    {
      "cell_type": "code",
      "source": [
        "#importing required evluation metrics\n",
        "from sklearn.metrics import accuracy_score,confusion_matrix,ConfusionMatrixDisplay,classification_report\n",
        "#initilasing the model with the aquired best parameters and fitting the training data to it\n",
        "log_reg = LogisticRegression(C=1, penalty='l2')\n",
        "log_reg.fit(Xtrain, ytrain_class)\n",
        "#predicitng improvement\n",
        "ypred = log_reg.predict(Xtest)\n",
        "#Calculating accuracy score of the model to check the performance of the model\n",
        "log_reg_score=accuracy_score(ytest_class, ypred)\n",
        "print('Accuracy of test set was',log_reg_score)"
      ],
      "metadata": {
        "colab": {
          "base_uri": "https://localhost:8080/"
        },
        "id": "E-gkSWsyhxP6",
        "outputId": "22b15eb4-a53d-47a3-8f2d-d0672bd48d8c"
      },
      "execution_count": null,
      "outputs": [
        {
          "output_type": "stream",
          "name": "stdout",
          "text": [
            "Accuracy of test set was 0.6711281070745698\n"
          ]
        }
      ]
    },
    {
      "cell_type": "code",
      "source": [
        "#plotting confusion matrix and displaying classification results\n",
        "cm=confusion_matrix(ytest_class, ypred)\n",
        "cmd=ConfusionMatrixDisplay(cm)\n",
        "cmd.plot(cmap=\"Greens\")\n",
        "print(\"Confusion Matrix of Logistic regression model :-\\n\")\n",
        "plt.show()\n",
        "print(\"\\n\",classification_report(ytest_class, ypred))"
      ],
      "metadata": {
        "colab": {
          "base_uri": "https://localhost:8080/",
          "height": 489
        },
        "id": "05aoJrbmi2lI",
        "outputId": "e565a438-f922-452d-a57e-b43822ea3e82"
      },
      "execution_count": null,
      "outputs": [
        {
          "output_type": "stream",
          "name": "stdout",
          "text": [
            "Confusion Matrix of Logistic regression model :-\n",
            "\n"
          ]
        },
        {
          "output_type": "display_data",
          "data": {
            "text/plain": [
              "<Figure size 432x288 with 2 Axes>"
            ],
            "image/png": "[encoded data removed]"
          },
          "metadata": {
            "needs_background": "light"
          }
        },
        {
          "output_type": "stream",
          "name": "stdout",
          "text": [
            "\n",
            "               precision    recall  f1-score   support\n",
            "\n",
            "           0       0.65      0.71      0.68      1277\n",
            "           1       0.70      0.63      0.66      1338\n",
            "\n",
            "    accuracy                           0.67      2615\n",
            "   macro avg       0.67      0.67      0.67      2615\n",
            "weighted avg       0.67      0.67      0.67      2615\n",
            "\n"
          ]
        }
      ]
    },
    {
      "cell_type": "markdown",
      "source": [
        "### **2. Support Vector Machine**"
      ],
      "metadata": {
        "id": "Su8QU2ZaLhSA"
      }
    },
    {
      "cell_type": "code",
      "source": [
        "#importing Support vector machine model\n",
        "from sklearn.svm import SVC\n",
        "#checking the best values for the required parameters\n",
        "svc = SVC(random_state=0, probability=True)\n",
        "params = {\n",
        "    'C': [10, 100, 1000, 10000],\n",
        "    'gamma': [1e-4, 0.001, 0.01, 0.1, 1, 10]\n",
        "}\n",
        "best_parameter(svc, params, Xtrain, ytrain_class)"
      ],
      "metadata": {
        "colab": {
          "base_uri": "https://localhost:8080/"
        },
        "id": "P0V2MHvAjmG7",
        "outputId": "06b16fe0-77a6-4ccb-91d9-b1da01975434"
      },
      "execution_count": null,
      "outputs": [
        {
          "output_type": "stream",
          "name": "stdout",
          "text": [
            "Best parameters were {'C': 10000, 'gamma': '0.01'} \n"
          ]
        }
      ]
    },
    {
      "cell_type": "code",
      "source": [
        "#initilasing the model with the aquired best parameters and fitting the training data to it\n",
        "svc = SVC(random_state=0, probability=True, C=10000, gamma=0.01)\n",
        "svc.fit(Xtrain, ytrain_class)\n",
        "#predicitng improvement\n",
        "ypred = svc.predict(Xtest)\n",
        "#Calculating accuracy score of the model to check the performance of the model\n",
        "svc_score=accuracy_score(ytest_class, ypred)\n",
        "print('Accuracy of test set was',svc_score)"
      ],
      "metadata": {
        "colab": {
          "base_uri": "https://localhost:8080/"
        },
        "id": "G3n4diEikHmB",
        "outputId": "df31fda8-e230-40bc-ccf0-6e32218d638b"
      },
      "execution_count": null,
      "outputs": [
        {
          "output_type": "stream",
          "name": "stdout",
          "text": [
            "Accuracy of test set was 0.6680688336520076\n"
          ]
        }
      ]
    },
    {
      "cell_type": "code",
      "source": [
        "#plotting confusion matrix and displaying classification results\n",
        "cm=confusion_matrix(ytest_class, ypred)\n",
        "cmd=ConfusionMatrixDisplay(cm)\n",
        "cmd.plot(cmap=\"Greens\")\n",
        "print(\"Confusion Matrix of SVM classifier model :-\\n\")\n",
        "plt.show()\n",
        "print(\"\\n\",classification_report(ytest_class, ypred))"
      ],
      "metadata": {
        "colab": {
          "base_uri": "https://localhost:8080/",
          "height": 488
        },
        "id": "fy32sAY8nr4y",
        "outputId": "c6d569e4-9e27-44a4-de13-575c3633d129"
      },
      "execution_count": null,
      "outputs": [
        {
          "output_type": "stream",
          "name": "stdout",
          "text": [
            "Confusion Matrix of SVM classifier model :-\n",
            "\n"
          ]
        },
        {
          "output_type": "display_data",
          "data": {
            "text/plain": [
              "<Figure size 432x288 with 2 Axes>"
            ],
            "image/png": "[encoded data removed]"
          },
          "metadata": {
            "needs_background": "light"
          }
        },
        {
          "output_type": "stream",
          "name": "stdout",
          "text": [
            "\n",
            "               precision    recall  f1-score   support\n",
            "\n",
            "           0       0.65      0.71      0.68      1277\n",
            "           1       0.69      0.63      0.66      1338\n",
            "\n",
            "    accuracy                           0.67      2615\n",
            "   macro avg       0.67      0.67      0.67      2615\n",
            "weighted avg       0.67      0.67      0.67      2615\n",
            "\n"
          ]
        }
      ]
    },
    {
      "cell_type": "markdown",
      "source": [
        "### **3. Random Forest Classifier**"
      ],
      "metadata": {
        "id": "0mmKT86QLo9m"
      }
    },
    {
      "cell_type": "code",
      "source": [
        "#importing Random forest classifier model\n",
        "from sklearn.ensemble import RandomForestClassifier\n",
        "rf = RandomForestClassifier(random_state=0)\n",
        "params = {\n",
        "    'n_estimators': [101, 201, 401, 601, 801, 1001],\n",
        "    'max_depth': [5, 10, 20],\n",
        "    'min_samples_split': [2, 10, 20],\n",
        "}\n",
        "#checking the best values for the required parameters\n",
        "best_parameter(rf, params, Xtrain, ytrain_class)"
      ],
      "metadata": {
        "colab": {
          "base_uri": "https://localhost:8080/"
        },
        "id": "g_pHxL3lnuiq",
        "outputId": "f1c798be-f8be-4bfe-bb1b-1b36bff7de29"
      },
      "execution_count": null,
      "outputs": [
        {
          "output_type": "stream",
          "name": "stdout",
          "text": [
            "Best parameters were {'n_estimators': 1001, 'max_depth': 10,'min_samples_split': 10} \n"
          ]
        }
      ]
    },
    {
      "cell_type": "code",
      "source": [
        "#initilasing the model with the aquired best parameters and fitting the training data to it\n",
        "from sklearn.ensemble import RandomForestClassifier\n",
        "rf = RandomForestClassifier(n_estimators=1001, max_depth=10, min_samples_split=10,random_state=0)\n",
        "rf.fit(Xtrain, ytrain_class)\n",
        "#predicitng improvement\n",
        "ypred = rf.predict(Xtest)\n",
        "#Calculating accuracy score of the model to check the performance of the model\n",
        "rf_score=accuracy_score(ytest_class, ypred)\n",
        "print('Accuracy of test set was',rf_score)"
      ],
      "metadata": {
        "colab": {
          "base_uri": "https://localhost:8080/"
        },
        "id": "XxBgOvIcnzm7",
        "outputId": "60ebca01-644f-4d8a-a046-56c633d287ff"
      },
      "execution_count": null,
      "outputs": [
        {
          "output_type": "stream",
          "name": "stdout",
          "text": [
            "Accuracy of test set was 0.6684512428298279\n"
          ]
        }
      ]
    },
    {
      "cell_type": "code",
      "source": [
        "#plotting confusion matrix and displaying classification results\n",
        "cm=confusion_matrix(ytest_class, ypred)\n",
        "cmd=ConfusionMatrixDisplay(cm)\n",
        "cmd.plot(cmap=\"Greens\")\n",
        "print(\"Confusion Matrix of Random forest model :-\\n\")\n",
        "plt.show()\n",
        "print(\"\\n\",classification_report(ytest_class, ypred))"
      ],
      "metadata": {
        "colab": {
          "base_uri": "https://localhost:8080/",
          "height": 487
        },
        "id": "TAMLItW9n9KW",
        "outputId": "e57b2120-e078-45c1-a6ae-9ad8a671707a"
      },
      "execution_count": null,
      "outputs": [
        {
          "output_type": "stream",
          "name": "stdout",
          "text": [
            "Confusion Matrix of Random forest model :-\n",
            "\n"
          ]
        },
        {
          "output_type": "display_data",
          "data": {
            "text/plain": [
              "<Figure size 432x288 with 2 Axes>"
            ],
            "image/png": "[encoded data removed]"
          },
          "metadata": {
            "needs_background": "light"
          }
        },
        {
          "output_type": "stream",
          "name": "stdout",
          "text": [
            "\n",
            "               precision    recall  f1-score   support\n",
            "\n",
            "           0       0.64      0.72      0.68      1277\n",
            "           1       0.70      0.62      0.66      1338\n",
            "\n",
            "    accuracy                           0.67      2615\n",
            "   macro avg       0.67      0.67      0.67      2615\n",
            "weighted avg       0.67      0.67      0.67      2615\n",
            "\n"
          ]
        }
      ]
    },
    {
      "cell_type": "markdown",
      "source": [
        "### **4. Gradient boost classifier**"
      ],
      "metadata": {
        "id": "vOsn9Bd4Lw03"
      }
    },
    {
      "cell_type": "code",
      "source": [
        "#importing Gradient boost classifier model\n",
        "from sklearn.ensemble import GradientBoostingClassifier\n",
        "gb = GradientBoostingClassifier(\n",
        "                    min_samples_split=2, max_depth=10,\n",
        "                    max_features='sqrt', random_state=0)\n",
        "params = {\n",
        "    'learning_rate': [0.001, 0.005, 0.01, 0.05, 0.1],\n",
        "    'n_estimators': [25, 51, 101, 201, 401, 601, 1001],\n",
        "}\n",
        "#checking the best values for the required parameters\n",
        "best_parameter(gb, params, Xtrain, ytrain_class)"
      ],
      "metadata": {
        "colab": {
          "base_uri": "https://localhost:8080/"
        },
        "id": "FQknJ81XG-XU",
        "outputId": "034ff3fa-a8f3-4f10-cb2f-beabfbb3cbe8"
      },
      "execution_count": null,
      "outputs": [
        {
          "output_type": "stream",
          "name": "stdout",
          "text": [
            "Best parameters were {'learning_rate': 0.005, 'n_estimators': 401\n"
          ]
        }
      ]
    },
    {
      "cell_type": "code",
      "source": [
        "#initilasing the model with the aquired best parameters and fitting the training data to it\n",
        "gb=GradientBoostingClassifier(min_samples_split=2, max_depth=10,\n",
        "                    max_features='sqrt', random_state=0,learning_rate= 0.005, n_estimators=401)\n",
        "gb.fit(Xtrain,ytrain_class)\n",
        "#predicitng improvement\n",
        "ypred=gb.predict(Xtest)\n",
        "#Calculating accuracy score of the model to check the performance of the model\n",
        "gb_score=accuracy_score(ytest_class, ypred)\n",
        "print('Accuracy of test set was',gb_score)"
      ],
      "metadata": {
        "colab": {
          "base_uri": "https://localhost:8080/"
        },
        "id": "l-fmawgTHCRf",
        "outputId": "d4e234a2-0591-4d5e-9d06-7e2faacc8270"
      },
      "execution_count": null,
      "outputs": [
        {
          "output_type": "stream",
          "name": "stdout",
          "text": [
            "Accuracy of test set was 0.6638623326959847\n"
          ]
        }
      ]
    },
    {
      "cell_type": "code",
      "source": [
        "#plotting confusion matrix and displaying classification results\n",
        "cm=confusion_matrix(ytest_class, ypred)\n",
        "cmd=ConfusionMatrixDisplay(cm)\n",
        "cmd.plot(cmap=\"Greens\")\n",
        "print(\"Confusion Matrix of Gradient boosting classifier model :-\\n\")\n",
        "plt.show()\n",
        "print(\"\\n\",classification_report(ytest_class, ypred))"
      ],
      "metadata": {
        "colab": {
          "base_uri": "https://localhost:8080/",
          "height": 487
        },
        "id": "ONejUrvrVs2g",
        "outputId": "ab592335-dc0f-4593-f93b-e14ac002bd11"
      },
      "execution_count": null,
      "outputs": [
        {
          "output_type": "stream",
          "name": "stdout",
          "text": [
            "Confusion Matrix of Gradient boosting classifier model :-\n",
            "\n"
          ]
        },
        {
          "output_type": "display_data",
          "data": {
            "text/plain": [
              "<Figure size 432x288 with 2 Axes>"
            ],
            "image/png": "[encoded data removed]"
          },
          "metadata": {
            "needs_background": "light"
          }
        },
        {
          "output_type": "stream",
          "name": "stdout",
          "text": [
            "\n",
            "               precision    recall  f1-score   support\n",
            "\n",
            "           0       0.64      0.72      0.68      1277\n",
            "           1       0.69      0.61      0.65      1338\n",
            "\n",
            "    accuracy                           0.66      2615\n",
            "   macro avg       0.67      0.67      0.66      2615\n",
            "weighted avg       0.67      0.66      0.66      2615\n",
            "\n"
          ]
        }
      ]
    },
    {
      "cell_type": "markdown",
      "source": [
        "### ***Comparing accuracies of classification models***"
      ],
      "metadata": {
        "id": "OGz5mt6I-a0K"
      }
    },
    {
      "cell_type": "code",
      "source": [
        "#creating a dataframe to display each model's accuracy\n",
        "pd.DataFrame({\"Logistic Regression\":log_reg_score,\"SVM Classifier\":svc_score,\"Random forest\":rf_score,\"Gradient boost Classifier\":gb_score},index=[\"Accuracy\"])"
      ],
      "metadata": {
        "colab": {
          "base_uri": "https://localhost:8080/",
          "height": 81
        },
        "id": "9QFvuZULbXMV",
        "outputId": "166564f4-2dc1-4aa1-909b-fa83fb166f3f"
      },
      "execution_count": null,
      "outputs": [
        {
          "output_type": "execute_result",
          "data": {
            "text/plain": [
              "          Logistic Regression  SVM Classifier  Random forest  \\\n",
              "Accuracy             0.671128        0.668069       0.668451   \n",
              "\n",
              "          Gradient boost Classifier  \n",
              "Accuracy                   0.663862  "
            ],
            "text/html": [
              "\n",
              "  <div id=\"df-6ae70c5f-dac0-461d-b8db-64e9b7b72dd4\">\n",
              "    <div class=\"colab-df-container\">\n",
              "      <div>\n",
              "<style scoped>\n",
              "    .dataframe tbody tr th:only-of-type {\n",
              "        vertical-align: middle;\n",
              "    }\n",
              "\n",
              "    .dataframe tbody tr th {\n",
              "        vertical-align: top;\n",
              "    }\n",
              "\n",
              "    .dataframe thead th {\n",
              "        text-align: right;\n",
              "    }\n",
              "</style>\n",
              "<table border=\"1\" class=\"dataframe\">\n",
              "  <thead>\n",
              "    <tr style=\"text-align: right;\">\n",
              "      <th></th>\n",
              "      <th>Logistic Regression</th>\n",
              "      <th>SVM Classifier</th>\n",
              "      <th>Random forest</th>\n",
              "      <th>Gradient boost Classifier</th>\n",
              "    </tr>\n",
              "  </thead>\n",
              "  <tbody>\n",
              "    <tr>\n",
              "      <th>Accuracy</th>\n",
              "      <td>0.671128</td>\n",
              "      <td>0.668069</td>\n",
              "      <td>0.668451</td>\n",
              "      <td>0.663862</td>\n",
              "    </tr>\n",
              "  </tbody>\n",
              "</table>\n",
              "</div>\n",
              "      <button class=\"colab-df-convert\" onclick=\"convertToInteractive('df-6ae70c5f-dac0-461d-b8db-64e9b7b72dd4')\"\n",
              "              title=\"Convert this dataframe to an interactive table.\"\n",
              "              style=\"display:none;\">\n",
              "        \n",
              "  <svg xmlns=\"http://www.w3.org/2000/svg\" height=\"24px\"viewBox=\"0 0 24 24\"\n",
              "       width=\"24px\">\n",
              "    <path d=\"M0 0h24v24H0V0z\" fill=\"none\"/>\n",
              "    <path d=\"M18.56 5.44l.94 2.06.94-2.06 2.06-.94-2.06-.94-.94-2.06-.94 2.06-2.06.94zm-11 1L8.5 8.5l.94-2.06 2.06-.94-2.06-.94L8.5 2.5l-.94 2.06-2.06.94zm10 10l.94 2.06.94-2.06 2.06-.94-2.06-.94-.94-2.06-.94 2.06-2.06.94z\"/><path d=\"M17.41 7.96l-1.37-1.37c-.4-.4-.92-.59-1.43-.59-.52 0-1.04.2-1.43.59L10.3 9.45l-7.72 7.72c-.78.78-.78 2.05 0 2.83L4 21.41c.39.39.9.59 1.41.59.51 0 1.02-.2 1.41-.59l7.78-7.78 2.81-2.81c.8-.78.8-2.07 0-2.86zM5.41 20L4 18.59l7.72-7.72 1.47 1.35L5.41 20z\"/>\n",
              "  </svg>\n",
              "      </button>\n",
              "      \n",
              "  <style>\n",
              "    .colab-df-container {\n",
              "      display:flex;\n",
              "      flex-wrap:wrap;\n",
              "      gap: 12px;\n",
              "    }\n",
              "\n",
              "    .colab-df-convert {\n",
              "      background-color: #E8F0FE;\n",
              "      border: none;\n",
              "      border-radius: 50%;\n",
              "      cursor: pointer;\n",
              "      display: none;\n",
              "      fill: #1967D2;\n",
              "      height: 32px;\n",
              "      padding: 0 0 0 0;\n",
              "      width: 32px;\n",
              "    }\n",
              "\n",
              "    .colab-df-convert:hover {\n",
              "      background-color: #E2EBFA;\n",
              "      box-shadow: 0px 1px 2px rgba(60, 64, 67, 0.3), 0px 1px 3px 1px rgba(60, 64, 67, 0.15);\n",
              "      fill: #174EA6;\n",
              "    }\n",
              "\n",
              "    [theme=dark] .colab-df-convert {\n",
              "      background-color: #3B4455;\n",
              "      fill: #D2E3FC;\n",
              "    }\n",
              "\n",
              "    [theme=dark] .colab-df-convert:hover {\n",
              "      background-color: #434B5C;\n",
              "      box-shadow: 0px 1px 3px 1px rgba(0, 0, 0, 0.15);\n",
              "      filter: drop-shadow(0px 1px 2px rgba(0, 0, 0, 0.3));\n",
              "      fill: #FFFFFF;\n",
              "    }\n",
              "  </style>\n",
              "\n",
              "      <script>\n",
              "        const buttonEl =\n",
              "          document.querySelector('#df-6ae70c5f-dac0-461d-b8db-64e9b7b72dd4 button.colab-df-convert');\n",
              "        buttonEl.style.display =\n",
              "          google.colab.kernel.accessAllowed ? 'block' : 'none';\n",
              "\n",
              "        async function convertToInteractive(key) {\n",
              "          const element = document.querySelector('#df-6ae70c5f-dac0-461d-b8db-64e9b7b72dd4');\n",
              "          const dataTable =\n",
              "            await google.colab.kernel.invokeFunction('convertToInteractive',\n",
              "                                                     [key], {});\n",
              "          if (!dataTable) return;\n",
              "\n",
              "          const docLinkHtml = 'Like what you see? Visit the ' +\n",
              "            '<a target=\"_blank\" href=https://colab.research.google.com/notebooks/data_table.ipynb>data table notebook</a>'\n",
              "            + ' to learn more about interactive tables.';\n",
              "          element.innerHTML = '';\n",
              "          dataTable['output_type'] = 'display_data';\n",
              "          await google.colab.output.renderOutput(dataTable, element);\n",
              "          const docLink = document.createElement('div');\n",
              "          docLink.innerHTML = docLinkHtml;\n",
              "          element.appendChild(docLink);\n",
              "        }\n",
              "      </script>\n",
              "    </div>\n",
              "  </div>\n",
              "  "
            ]
          },
          "metadata": {},
          "execution_count": 57
        }
      ]
    },
    {
      "cell_type": "code",
      "source": [
        "from sklearn.metrics import roc_curve\n",
        "models = [log_reg, svc, rf, gb]\n",
        "labels = ['Logistic Regression', 'Support Vector Machine',\n",
        "          'Random Forest', 'Grandient Boosting']\n",
        "colors = ['red', 'yellow', 'green', 'blue']\n",
        "plt.figure(figsize=(8,8))\n",
        "for index, model in enumerate(models):\n",
        "    ypred_prob = model.predict_proba(Xtest)[:,1]\n",
        "    fpr, tpr, _ = roc_curve(ytest_class, ypred_prob)\n",
        "    _ = plt.step(fpr, tpr, color=colors[index], alpha=0.5, where='post', label=labels[index],linewidth=3.5)\n",
        "plt.xlim([0, 0.2])\n",
        "plt.xlabel('False Positive Rate')\n",
        "plt.ylabel('True Positive Rate')\n",
        "plt.legend(fontsize=12)"
      ],
      "metadata": {
        "colab": {
          "base_uri": "https://localhost:8080/",
          "height": 514
        },
        "id": "dH6FXgCIfoHf",
        "outputId": "344d6441-4fbf-4a45-d656-eaabf99a4a02"
      },
      "execution_count": null,
      "outputs": [
        {
          "output_type": "execute_result",
          "data": {
            "text/plain": [
              "<matplotlib.legend.Legend at 0x7fa8ca46dfd0>"
            ]
          },
          "metadata": {},
          "execution_count": 63
        },
        {
          "output_type": "display_data",
          "data": {
            "text/plain": [
              "<Figure size 576x576 with 1 Axes>"
            ],
            "image/png": "[encoded data removed]"
          },
          "metadata": {
            "needs_background": "light"
          }
        }
      ]
    }
  ]
}
